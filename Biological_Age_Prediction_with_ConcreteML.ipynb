{
  "cells": [
    {
      "cell_type": "markdown",
      "id": "20be4239-aa72-46f0-9e8d-59fcb8197f7c",
      "metadata": {
        "id": "20be4239-aa72-46f0-9e8d-59fcb8197f7c"
      },
      "source": [
        "# Installation"
      ]
    },
    {
      "cell_type": "code",
      "execution_count": null,
      "id": "orK3aFSqabSI",
      "metadata": {
        "colab": {
          "base_uri": "https://localhost:8080/"
        },
        "id": "orK3aFSqabSI",
        "outputId": "bd52c5f8-168d-4a49-9afa-c5cf33ff7c08"
      },
      "outputs": [
        {
          "output_type": "stream",
          "name": "stdout",
          "text": [
            "Collecting concrete-ml\n",
            "  Downloading concrete_ml-1.9.0-py3-none-any.whl.metadata (18 kB)\n",
            "Collecting brevitas==0.10.2 (from concrete-ml)\n",
            "  Downloading brevitas-0.10.2-py3-none-any.whl.metadata (7.6 kB)\n",
            "Collecting concrete-ml-extensions==0.1.9 (from concrete-ml)\n",
            "  Downloading concrete_ml_extensions-0.1.9-cp311-cp311-manylinux_2_17_x86_64.manylinux2014_x86_64.whl.metadata (332 bytes)\n",
            "Collecting concrete-python==2.10.0 (from concrete-ml)\n",
            "  Downloading concrete_python-2.10.0-cp311-cp311-manylinux_2_28_x86_64.whl.metadata (12 kB)\n",
            "Collecting hummingbird-ml==0.4.11 (from hummingbird-ml[onnx]==0.4.11->concrete-ml)\n",
            "  Downloading hummingbird_ml-0.4.11-py2.py3-none-any.whl.metadata (2.0 kB)\n",
            "Collecting numpy==1.26.4 (from concrete-ml)\n",
            "  Downloading numpy-1.26.4-cp311-cp311-manylinux_2_17_x86_64.manylinux2014_x86_64.whl.metadata (61 kB)\n",
            "\u001b[2K     \u001b[90m━━━━━━━━━━━━━━━━━━━━━━━━━━━━━━━━━━━━━━━━\u001b[0m \u001b[32m61.0/61.0 kB\u001b[0m \u001b[31m3.0 MB/s\u001b[0m eta \u001b[36m0:00:00\u001b[0m\n",
            "\u001b[?25hCollecting onnx==1.17.0 (from concrete-ml)\n",
            "  Downloading onnx-1.17.0-cp311-cp311-manylinux_2_17_x86_64.manylinux2014_x86_64.whl.metadata (16 kB)\n",
            "Collecting onnxoptimizer==0.3.13 (from concrete-ml)\n",
            "  Downloading onnxoptimizer-0.3.13-cp311-cp311-manylinux_2_17_x86_64.manylinux2014_x86_64.whl.metadata (3.2 kB)\n",
            "Collecting onnxruntime==1.18 (from concrete-ml)\n",
            "  Downloading onnxruntime-1.18.0-cp311-cp311-manylinux_2_27_x86_64.manylinux_2_28_x86_64.whl.metadata (4.3 kB)\n",
            "Collecting pandas==2.0.3 (from concrete-ml)\n",
            "  Downloading pandas-2.0.3-cp311-cp311-manylinux_2_17_x86_64.manylinux2014_x86_64.whl.metadata (18 kB)\n",
            "Requirement already satisfied: protobuf<6.0.0,>=5.28.3 in /usr/local/lib/python3.11/dist-packages (from concrete-ml) (5.29.4)\n",
            "Collecting scikit-learn==1.5.0 (from concrete-ml)\n",
            "  Downloading scikit_learn-1.5.0-cp311-cp311-manylinux_2_17_x86_64.manylinux2014_x86_64.whl.metadata (11 kB)\n",
            "Requirement already satisfied: scipy>=1.10.1 in /usr/local/lib/python3.11/dist-packages (from concrete-ml) (1.15.3)\n",
            "Collecting setuptools==75.3.0 (from concrete-ml)\n",
            "  Downloading setuptools-75.3.0-py3-none-any.whl.metadata (6.9 kB)\n",
            "Collecting skops==0.5.0 (from concrete-ml)\n",
            "  Downloading skops-0.5.0-py3-none-any.whl.metadata (5.4 kB)\n",
            "Collecting skorch==0.11.0 (from concrete-ml)\n",
            "  Downloading skorch-0.11.0-py3-none-any.whl.metadata (9.3 kB)\n",
            "Collecting torch==2.3.1 (from concrete-ml)\n",
            "  Downloading torch-2.3.1-cp311-cp311-manylinux1_x86_64.whl.metadata (26 kB)\n",
            "Requirement already satisfied: typing-extensions<5.0.0,>=4.5.0 in /usr/local/lib/python3.11/dist-packages (from concrete-ml) (4.13.2)\n",
            "Collecting xgboost==1.6.2 (from concrete-ml)\n",
            "  Downloading xgboost-1.6.2-py3-none-manylinux2014_x86_64.whl.metadata (1.8 kB)\n",
            "Collecting dependencies==2.0.1 (from brevitas==0.10.2->concrete-ml)\n",
            "  Downloading dependencies-2.0.1-py2.py3-none-any.whl.metadata (3.9 kB)\n",
            "Requirement already satisfied: packaging in /usr/local/lib/python3.11/dist-packages (from brevitas==0.10.2->concrete-ml) (24.2)\n",
            "Requirement already satisfied: sympy in /usr/local/lib/python3.11/dist-packages (from brevitas==0.10.2->concrete-ml) (1.13.1)\n",
            "Collecting unfoldNd (from brevitas==0.10.2->concrete-ml)\n",
            "  Downloading unfoldNd-0.2.3-py3-none-any.whl.metadata (1.5 kB)\n",
            "Requirement already satisfied: importlib-resources>=6.1 in /usr/local/lib/python3.11/dist-packages (from concrete-python==2.10.0->concrete-ml) (6.5.2)\n",
            "Requirement already satisfied: jsonpickle>=3.0.3 in /usr/local/lib/python3.11/dist-packages (from concrete-python==2.10.0->concrete-ml) (4.0.5)\n",
            "Requirement already satisfied: networkx>=2.6 in /usr/local/lib/python3.11/dist-packages (from concrete-python==2.10.0->concrete-ml) (3.4.2)\n",
            "Collecting z3-solver==4.13.0 (from concrete-python==2.10.0->concrete-ml)\n",
            "  Downloading z3_solver-4.13.0.0-py2.py3-none-manylinux2014_x86_64.whl.metadata (757 bytes)\n",
            "Collecting onnxconverter-common>=1.6.0 (from hummingbird-ml==0.4.11->hummingbird-ml[onnx]==0.4.11->concrete-ml)\n",
            "  Downloading onnxconverter_common-1.14.0-py2.py3-none-any.whl.metadata (4.2 kB)\n",
            "Requirement already satisfied: psutil in /usr/local/lib/python3.11/dist-packages (from hummingbird-ml==0.4.11->hummingbird-ml[onnx]==0.4.11->concrete-ml) (5.9.5)\n",
            "Requirement already satisfied: dill in /usr/local/lib/python3.11/dist-packages (from hummingbird-ml==0.4.11->hummingbird-ml[onnx]==0.4.11->concrete-ml) (0.3.7)\n",
            "Collecting onnxmltools>=1.6.0 (from hummingbird-ml[onnx]==0.4.11->concrete-ml)\n",
            "  Downloading onnxmltools-1.13.0-py2.py3-none-any.whl.metadata (8.2 kB)\n",
            "Collecting skl2onnx>=1.7.0 (from hummingbird-ml[onnx]==0.4.11->concrete-ml)\n",
            "  Downloading skl2onnx-1.18.0-py2.py3-none-any.whl.metadata (3.2 kB)\n",
            "Collecting coloredlogs (from onnxruntime==1.18->concrete-ml)\n",
            "  Downloading coloredlogs-15.0.1-py2.py3-none-any.whl.metadata (12 kB)\n",
            "Requirement already satisfied: flatbuffers in /usr/local/lib/python3.11/dist-packages (from onnxruntime==1.18->concrete-ml) (25.2.10)\n",
            "Requirement already satisfied: python-dateutil>=2.8.2 in /usr/local/lib/python3.11/dist-packages (from pandas==2.0.3->concrete-ml) (2.9.0.post0)\n",
            "Requirement already satisfied: pytz>=2020.1 in /usr/local/lib/python3.11/dist-packages (from pandas==2.0.3->concrete-ml) (2025.2)\n",
            "Requirement already satisfied: tzdata>=2022.1 in /usr/local/lib/python3.11/dist-packages (from pandas==2.0.3->concrete-ml) (2025.2)\n",
            "Requirement already satisfied: joblib>=1.2.0 in /usr/local/lib/python3.11/dist-packages (from scikit-learn==1.5.0->concrete-ml) (1.5.0)\n",
            "Requirement already satisfied: threadpoolctl>=3.1.0 in /usr/local/lib/python3.11/dist-packages (from scikit-learn==1.5.0->concrete-ml) (3.6.0)\n",
            "Requirement already satisfied: huggingface-hub>=0.10.1 in /usr/local/lib/python3.11/dist-packages (from skops==0.5.0->concrete-ml) (0.31.2)\n",
            "Requirement already satisfied: tabulate>=0.8.8 in /usr/local/lib/python3.11/dist-packages (from skops==0.5.0->concrete-ml) (0.9.0)\n",
            "Requirement already satisfied: tqdm>=4.14.0 in /usr/local/lib/python3.11/dist-packages (from skorch==0.11.0->concrete-ml) (4.67.1)\n",
            "Requirement already satisfied: filelock in /usr/local/lib/python3.11/dist-packages (from torch==2.3.1->concrete-ml) (3.18.0)\n",
            "Requirement already satisfied: jinja2 in /usr/local/lib/python3.11/dist-packages (from torch==2.3.1->concrete-ml) (3.1.6)\n",
            "Requirement already satisfied: fsspec in /usr/local/lib/python3.11/dist-packages (from torch==2.3.1->concrete-ml) (2025.3.2)\n",
            "Collecting nvidia-cuda-nvrtc-cu12==12.1.105 (from torch==2.3.1->concrete-ml)\n",
            "  Downloading nvidia_cuda_nvrtc_cu12-12.1.105-py3-none-manylinux1_x86_64.whl.metadata (1.5 kB)\n",
            "Collecting nvidia-cuda-runtime-cu12==12.1.105 (from torch==2.3.1->concrete-ml)\n",
            "  Downloading nvidia_cuda_runtime_cu12-12.1.105-py3-none-manylinux1_x86_64.whl.metadata (1.5 kB)\n",
            "Collecting nvidia-cuda-cupti-cu12==12.1.105 (from torch==2.3.1->concrete-ml)\n",
            "  Downloading nvidia_cuda_cupti_cu12-12.1.105-py3-none-manylinux1_x86_64.whl.metadata (1.6 kB)\n",
            "Collecting nvidia-cudnn-cu12==8.9.2.26 (from torch==2.3.1->concrete-ml)\n",
            "  Downloading nvidia_cudnn_cu12-8.9.2.26-py3-none-manylinux1_x86_64.whl.metadata (1.6 kB)\n",
            "Collecting nvidia-cublas-cu12==12.1.3.1 (from torch==2.3.1->concrete-ml)\n",
            "  Downloading nvidia_cublas_cu12-12.1.3.1-py3-none-manylinux1_x86_64.whl.metadata (1.5 kB)\n",
            "Collecting nvidia-cufft-cu12==11.0.2.54 (from torch==2.3.1->concrete-ml)\n",
            "  Downloading nvidia_cufft_cu12-11.0.2.54-py3-none-manylinux1_x86_64.whl.metadata (1.5 kB)\n",
            "Collecting nvidia-curand-cu12==10.3.2.106 (from torch==2.3.1->concrete-ml)\n",
            "  Downloading nvidia_curand_cu12-10.3.2.106-py3-none-manylinux1_x86_64.whl.metadata (1.5 kB)\n",
            "Collecting nvidia-cusolver-cu12==11.4.5.107 (from torch==2.3.1->concrete-ml)\n",
            "  Downloading nvidia_cusolver_cu12-11.4.5.107-py3-none-manylinux1_x86_64.whl.metadata (1.6 kB)\n",
            "Collecting nvidia-cusparse-cu12==12.1.0.106 (from torch==2.3.1->concrete-ml)\n",
            "  Downloading nvidia_cusparse_cu12-12.1.0.106-py3-none-manylinux1_x86_64.whl.metadata (1.6 kB)\n",
            "Collecting nvidia-nccl-cu12==2.20.5 (from torch==2.3.1->concrete-ml)\n",
            "  Downloading nvidia_nccl_cu12-2.20.5-py3-none-manylinux2014_x86_64.whl.metadata (1.8 kB)\n",
            "Collecting nvidia-nvtx-cu12==12.1.105 (from torch==2.3.1->concrete-ml)\n",
            "  Downloading nvidia_nvtx_cu12-12.1.105-py3-none-manylinux1_x86_64.whl.metadata (1.7 kB)\n",
            "Collecting triton==2.3.1 (from torch==2.3.1->concrete-ml)\n",
            "  Downloading triton-2.3.1-cp311-cp311-manylinux_2_17_x86_64.manylinux2014_x86_64.whl.metadata (1.4 kB)\n",
            "Requirement already satisfied: nvidia-nvjitlink-cu12 in /usr/local/lib/python3.11/dist-packages (from nvidia-cusolver-cu12==11.4.5.107->torch==2.3.1->concrete-ml) (12.5.82)\n",
            "Requirement already satisfied: pyyaml>=5.1 in /usr/local/lib/python3.11/dist-packages (from huggingface-hub>=0.10.1->skops==0.5.0->concrete-ml) (6.0.2)\n",
            "Requirement already satisfied: requests in /usr/local/lib/python3.11/dist-packages (from huggingface-hub>=0.10.1->skops==0.5.0->concrete-ml) (2.32.3)\n",
            "INFO: pip is looking at multiple versions of onnxconverter-common to determine which version is compatible with other requirements. This could take a while.\n",
            "Collecting onnxconverter-common>=1.6.0 (from hummingbird-ml==0.4.11->hummingbird-ml[onnx]==0.4.11->concrete-ml)\n",
            "  Downloading onnxconverter_common-1.13.0-py2.py3-none-any.whl.metadata (2.6 kB)\n",
            "Requirement already satisfied: six>=1.5 in /usr/local/lib/python3.11/dist-packages (from python-dateutil>=2.8.2->pandas==2.0.3->concrete-ml) (1.17.0)\n",
            "Collecting humanfriendly>=9.1 (from coloredlogs->onnxruntime==1.18->concrete-ml)\n",
            "  Downloading humanfriendly-10.0-py2.py3-none-any.whl.metadata (9.2 kB)\n",
            "Requirement already satisfied: MarkupSafe>=2.0 in /usr/local/lib/python3.11/dist-packages (from jinja2->torch==2.3.1->concrete-ml) (3.0.2)\n",
            "Requirement already satisfied: mpmath<1.4,>=1.1.0 in /usr/local/lib/python3.11/dist-packages (from sympy->brevitas==0.10.2->concrete-ml) (1.3.0)\n",
            "Requirement already satisfied: charset-normalizer<4,>=2 in /usr/local/lib/python3.11/dist-packages (from requests->huggingface-hub>=0.10.1->skops==0.5.0->concrete-ml) (3.4.2)\n",
            "Requirement already satisfied: idna<4,>=2.5 in /usr/local/lib/python3.11/dist-packages (from requests->huggingface-hub>=0.10.1->skops==0.5.0->concrete-ml) (3.10)\n",
            "Requirement already satisfied: urllib3<3,>=1.21.1 in /usr/local/lib/python3.11/dist-packages (from requests->huggingface-hub>=0.10.1->skops==0.5.0->concrete-ml) (2.4.0)\n",
            "Requirement already satisfied: certifi>=2017.4.17 in /usr/local/lib/python3.11/dist-packages (from requests->huggingface-hub>=0.10.1->skops==0.5.0->concrete-ml) (2025.4.26)\n",
            "Downloading concrete_ml-1.9.0-py3-none-any.whl (279 kB)\n",
            "\u001b[2K   \u001b[90m━━━━━━━━━━━━━━━━━━━━━━━━━━━━━━━━━━━━━━━━\u001b[0m \u001b[32m279.2/279.2 kB\u001b[0m \u001b[31m20.5 MB/s\u001b[0m eta \u001b[36m0:00:00\u001b[0m\n",
            "\u001b[?25hDownloading brevitas-0.10.2-py3-none-any.whl (626 kB)\n",
            "\u001b[2K   \u001b[90m━━━━━━━━━━━━━━━━━━━━━━━━━━━━━━━━━━━━━━━━\u001b[0m \u001b[32m626.6/626.6 kB\u001b[0m \u001b[31m40.7 MB/s\u001b[0m eta \u001b[36m0:00:00\u001b[0m\n",
            "\u001b[?25hDownloading concrete_ml_extensions-0.1.9-cp311-cp311-manylinux_2_17_x86_64.manylinux2014_x86_64.whl (53.7 MB)\n",
            "\u001b[2K   \u001b[90m━━━━━━━━━━━━━━━━━━━━━━━━━━━━━━━━━━━━━━━━\u001b[0m \u001b[32m53.7/53.7 MB\u001b[0m \u001b[31m30.2 MB/s\u001b[0m eta \u001b[36m0:00:00\u001b[0m\n",
            "\u001b[?25hDownloading concrete_python-2.10.0-cp311-cp311-manylinux_2_28_x86_64.whl (76.8 MB)\n",
            "\u001b[2K   \u001b[90m━━━━━━━━━━━━━━━━━━━━━━━━━━━━━━━━━━━━━━━━\u001b[0m \u001b[32m76.8/76.8 MB\u001b[0m \u001b[31m27.3 MB/s\u001b[0m eta \u001b[36m0:00:00\u001b[0m\n",
            "\u001b[?25hDownloading hummingbird_ml-0.4.11-py2.py3-none-any.whl (150 kB)\n",
            "\u001b[2K   \u001b[90m━━━━━━━━━━━━━━━━━━━━━━━━━━━━━━━━━━━━━━━━\u001b[0m \u001b[32m151.0/151.0 kB\u001b[0m \u001b[31m9.9 MB/s\u001b[0m eta \u001b[36m0:00:00\u001b[0m\n",
            "\u001b[?25hDownloading numpy-1.26.4-cp311-cp311-manylinux_2_17_x86_64.manylinux2014_x86_64.whl (18.3 MB)\n",
            "\u001b[2K   \u001b[90m━━━━━━━━━━━━━━━━━━━━━━━━━━━━━━━━━━━━━━━━\u001b[0m \u001b[32m18.3/18.3 MB\u001b[0m \u001b[31m89.7 MB/s\u001b[0m eta \u001b[36m0:00:00\u001b[0m\n",
            "\u001b[?25hDownloading onnx-1.17.0-cp311-cp311-manylinux_2_17_x86_64.manylinux2014_x86_64.whl (16.0 MB)\n",
            "\u001b[2K   \u001b[90m━━━━━━━━━━━━━━━━━━━━━━━━━━━━━━━━━━━━━━━━\u001b[0m \u001b[32m16.0/16.0 MB\u001b[0m \u001b[31m111.3 MB/s\u001b[0m eta \u001b[36m0:00:00\u001b[0m\n",
            "\u001b[?25hDownloading onnxoptimizer-0.3.13-cp311-cp311-manylinux_2_17_x86_64.manylinux2014_x86_64.whl (678 kB)\n",
            "\u001b[2K   \u001b[90m━━━━━━━━━━━━━━━━━━━━━━━━━━━━━━━━━━━━━━━━\u001b[0m \u001b[32m678.1/678.1 kB\u001b[0m \u001b[31m41.9 MB/s\u001b[0m eta \u001b[36m0:00:00\u001b[0m\n",
            "\u001b[?25hDownloading onnxruntime-1.18.0-cp311-cp311-manylinux_2_27_x86_64.manylinux_2_28_x86_64.whl (6.8 MB)\n",
            "\u001b[2K   \u001b[90m━━━━━━━━━━━━━━━━━━━━━━━━━━━━━━━━━━━━━━━━\u001b[0m \u001b[32m6.8/6.8 MB\u001b[0m \u001b[31m110.5 MB/s\u001b[0m eta \u001b[36m0:00:00\u001b[0m\n",
            "\u001b[?25hDownloading pandas-2.0.3-cp311-cp311-manylinux_2_17_x86_64.manylinux2014_x86_64.whl (12.2 MB)\n",
            "\u001b[2K   \u001b[90m━━━━━━━━━━━━━━━━━━━━━━━━━━━━━━━━━━━━━━━━\u001b[0m \u001b[32m12.2/12.2 MB\u001b[0m \u001b[31m117.1 MB/s\u001b[0m eta \u001b[36m0:00:00\u001b[0m\n",
            "\u001b[?25hDownloading scikit_learn-1.5.0-cp311-cp311-manylinux_2_17_x86_64.manylinux2014_x86_64.whl (13.3 MB)\n",
            "\u001b[2K   \u001b[90m━━━━━━━━━━━━━━━━━━━━━━━━━━━━━━━━━━━━━━━━\u001b[0m \u001b[32m13.3/13.3 MB\u001b[0m \u001b[31m109.5 MB/s\u001b[0m eta \u001b[36m0:00:00\u001b[0m\n",
            "\u001b[?25hDownloading setuptools-75.3.0-py3-none-any.whl (1.3 MB)\n",
            "\u001b[2K   \u001b[90m━━━━━━━━━━━━━━━━━━━━━━━━━━━━━━━━━━━━━━━━\u001b[0m \u001b[32m1.3/1.3 MB\u001b[0m \u001b[31m53.6 MB/s\u001b[0m eta \u001b[36m0:00:00\u001b[0m\n",
            "\u001b[?25hDownloading skops-0.5.0-py3-none-any.whl (92 kB)\n",
            "\u001b[2K   \u001b[90m━━━━━━━━━━━━━━━━━━━━━━━━━━━━━━━━━━━━━━━━\u001b[0m \u001b[32m92.8/92.8 kB\u001b[0m \u001b[31m7.6 MB/s\u001b[0m eta \u001b[36m0:00:00\u001b[0m\n",
            "\u001b[?25hDownloading skorch-0.11.0-py3-none-any.whl (155 kB)\n",
            "\u001b[2K   \u001b[90m━━━━━━━━━━━━━━━━━━━━━━━━━━━━━━━━━━━━━━━━\u001b[0m \u001b[32m155.1/155.1 kB\u001b[0m \u001b[31m15.1 MB/s\u001b[0m eta \u001b[36m0:00:00\u001b[0m\n",
            "\u001b[?25hDownloading torch-2.3.1-cp311-cp311-manylinux1_x86_64.whl (779.2 MB)\n",
            "\u001b[2K   \u001b[90m━━━━━━━━━━━━━━━━━━━━━━━━━━━━━━━━━━━━━━━━\u001b[0m \u001b[32m779.2/779.2 MB\u001b[0m \u001b[31m1.5 MB/s\u001b[0m eta \u001b[36m0:00:00\u001b[0m\n",
            "\u001b[?25hDownloading xgboost-1.6.2-py3-none-manylinux2014_x86_64.whl (255.9 MB)\n",
            "\u001b[2K   \u001b[90m━━━━━━━━━━━━━━━━━━━━━━━━━━━━━━━━━━━━━━━━\u001b[0m \u001b[32m255.9/255.9 MB\u001b[0m \u001b[31m3.5 MB/s\u001b[0m eta \u001b[36m0:00:00\u001b[0m\n",
            "\u001b[?25hDownloading dependencies-2.0.1-py2.py3-none-any.whl (15 kB)\n",
            "Downloading nvidia_cublas_cu12-12.1.3.1-py3-none-manylinux1_x86_64.whl (410.6 MB)\n",
            "\u001b[2K   \u001b[90m━━━━━━━━━━━━━━━━━━━━━━━━━━━━━━━━━━━━━━━━\u001b[0m \u001b[32m410.6/410.6 MB\u001b[0m \u001b[31m2.5 MB/s\u001b[0m eta \u001b[36m0:00:00\u001b[0m\n",
            "\u001b[?25hDownloading nvidia_cuda_cupti_cu12-12.1.105-py3-none-manylinux1_x86_64.whl (14.1 MB)\n",
            "\u001b[2K   \u001b[90m━━━━━━━━━━━━━━━━━━━━━━━━━━━━━━━━━━━━━━━━\u001b[0m \u001b[32m14.1/14.1 MB\u001b[0m \u001b[31m127.3 MB/s\u001b[0m eta \u001b[36m0:00:00\u001b[0m\n",
            "\u001b[?25hDownloading nvidia_cuda_nvrtc_cu12-12.1.105-py3-none-manylinux1_x86_64.whl (23.7 MB)\n",
            "\u001b[2K   \u001b[90m━━━━━━━━━━━━━━━━━━━━━━━━━━━━━━━━━━━━━━━━\u001b[0m \u001b[32m23.7/23.7 MB\u001b[0m \u001b[31m102.8 MB/s\u001b[0m eta \u001b[36m0:00:00\u001b[0m\n",
            "\u001b[?25hDownloading nvidia_cuda_runtime_cu12-12.1.105-py3-none-manylinux1_x86_64.whl (823 kB)\n",
            "\u001b[2K   \u001b[90m━━━━━━━━━━━━━━━━━━━━━━━━━━━━━━━━━━━━━━━━\u001b[0m \u001b[32m823.6/823.6 kB\u001b[0m \u001b[31m57.2 MB/s\u001b[0m eta \u001b[36m0:00:00\u001b[0m\n",
            "\u001b[?25hDownloading nvidia_cudnn_cu12-8.9.2.26-py3-none-manylinux1_x86_64.whl (731.7 MB)\n",
            "\u001b[2K   \u001b[90m━━━━━━━━━━━━━━━━━━━━━━━━━━━━━━━━━━━━━━━━\u001b[0m \u001b[32m731.7/731.7 MB\u001b[0m \u001b[31m1.7 MB/s\u001b[0m eta \u001b[36m0:00:00\u001b[0m\n",
            "\u001b[?25hDownloading nvidia_cufft_cu12-11.0.2.54-py3-none-manylinux1_x86_64.whl (121.6 MB)\n",
            "\u001b[2K   \u001b[90m━━━━━━━━━━━━━━━━━━━━━━━━━━━━━━━━━━━━━━━━\u001b[0m \u001b[32m121.6/121.6 MB\u001b[0m \u001b[31m18.3 MB/s\u001b[0m eta \u001b[36m0:00:00\u001b[0m\n",
            "\u001b[?25hDownloading nvidia_curand_cu12-10.3.2.106-py3-none-manylinux1_x86_64.whl (56.5 MB)\n",
            "\u001b[2K   \u001b[90m━━━━━━━━━━━━━━━━━━━━━━━━━━━━━━━━━━━━━━━━\u001b[0m \u001b[32m56.5/56.5 MB\u001b[0m \u001b[31m40.9 MB/s\u001b[0m eta \u001b[36m0:00:00\u001b[0m\n",
            "\u001b[?25hDownloading nvidia_cusolver_cu12-11.4.5.107-py3-none-manylinux1_x86_64.whl (124.2 MB)\n",
            "\u001b[2K   \u001b[90m━━━━━━━━━━━━━━━━━━━━━━━━━━━━━━━━━━━━━━━━\u001b[0m \u001b[32m124.2/124.2 MB\u001b[0m \u001b[31m5.0 MB/s\u001b[0m eta \u001b[36m0:00:00\u001b[0m\n",
            "\u001b[?25hDownloading nvidia_cusparse_cu12-12.1.0.106-py3-none-manylinux1_x86_64.whl (196.0 MB)\n",
            "\u001b[2K   \u001b[90m━━━━━━━━━━━━━━━━━━━━━━━━━━━━━━━━━━━━━━━━\u001b[0m \u001b[32m196.0/196.0 MB\u001b[0m \u001b[31m5.4 MB/s\u001b[0m eta \u001b[36m0:00:00\u001b[0m\n",
            "\u001b[?25hDownloading nvidia_nccl_cu12-2.20.5-py3-none-manylinux2014_x86_64.whl (176.2 MB)\n",
            "\u001b[2K   \u001b[90m━━━━━━━━━━━━━━━━━━━━━━━━━━━━━━━━━━━━━━━━\u001b[0m \u001b[32m176.2/176.2 MB\u001b[0m \u001b[31m5.1 MB/s\u001b[0m eta \u001b[36m0:00:00\u001b[0m\n",
            "\u001b[?25hDownloading nvidia_nvtx_cu12-12.1.105-py3-none-manylinux1_x86_64.whl (99 kB)\n",
            "\u001b[2K   \u001b[90m━━━━━━━━━━━━━━━━━━━━━━━━━━━━━━━━━━━━━━━━\u001b[0m \u001b[32m99.1/99.1 kB\u001b[0m \u001b[31m10.2 MB/s\u001b[0m eta \u001b[36m0:00:00\u001b[0m\n",
            "\u001b[?25hDownloading triton-2.3.1-cp311-cp311-manylinux_2_17_x86_64.manylinux2014_x86_64.whl (168.1 MB)\n",
            "\u001b[2K   \u001b[90m━━━━━━━━━━━━━━━━━━━━━━━━━━━━━━━━━━━━━━━━\u001b[0m \u001b[32m168.1/168.1 MB\u001b[0m \u001b[31m7.2 MB/s\u001b[0m eta \u001b[36m0:00:00\u001b[0m\n",
            "\u001b[?25hDownloading z3_solver-4.13.0.0-py2.py3-none-manylinux2014_x86_64.whl (57.3 MB)\n",
            "\u001b[2K   \u001b[90m━━━━━━━━━━━━━━━━━━━━━━━━━━━━━━━━━━━━━━━━\u001b[0m \u001b[32m57.3/57.3 MB\u001b[0m \u001b[31m39.8 MB/s\u001b[0m eta \u001b[36m0:00:00\u001b[0m\n",
            "\u001b[?25hDownloading onnxconverter_common-1.13.0-py2.py3-none-any.whl (83 kB)\n",
            "\u001b[2K   \u001b[90m━━━━━━━━━━━━━━━━━━━━━━━━━━━━━━━━━━━━━━━━\u001b[0m \u001b[32m83.8/83.8 kB\u001b[0m \u001b[31m8.3 MB/s\u001b[0m eta \u001b[36m0:00:00\u001b[0m\n",
            "\u001b[?25hDownloading onnxmltools-1.13.0-py2.py3-none-any.whl (328 kB)\n",
            "\u001b[2K   \u001b[90m━━━━━━━━━━━━━━━━━━━━━━━━━━━━━━━━━━━━━━━━\u001b[0m \u001b[32m329.0/329.0 kB\u001b[0m \u001b[31m29.0 MB/s\u001b[0m eta \u001b[36m0:00:00\u001b[0m\n",
            "\u001b[?25hDownloading skl2onnx-1.18.0-py2.py3-none-any.whl (300 kB)\n",
            "\u001b[2K   \u001b[90m━━━━━━━━━━━━━━━━━━━━━━━━━━━━━━━━━━━━━━━━\u001b[0m \u001b[32m300.3/300.3 kB\u001b[0m \u001b[31m29.0 MB/s\u001b[0m eta \u001b[36m0:00:00\u001b[0m\n",
            "\u001b[?25hDownloading coloredlogs-15.0.1-py2.py3-none-any.whl (46 kB)\n",
            "\u001b[2K   \u001b[90m━━━━━━━━━━━━━━━━━━━━━━━━━━━━━━━━━━━━━━━━\u001b[0m \u001b[32m46.0/46.0 kB\u001b[0m \u001b[31m4.1 MB/s\u001b[0m eta \u001b[36m0:00:00\u001b[0m\n",
            "\u001b[?25hDownloading unfoldNd-0.2.3-py3-none-any.whl (16 kB)\n",
            "Downloading humanfriendly-10.0-py2.py3-none-any.whl (86 kB)\n",
            "\u001b[2K   \u001b[90m━━━━━━━━━━━━━━━━━━━━━━━━━━━━━━━━━━━━━━━━\u001b[0m \u001b[32m86.8/86.8 kB\u001b[0m \u001b[31m9.3 MB/s\u001b[0m eta \u001b[36m0:00:00\u001b[0m\n",
            "\u001b[?25hInstalling collected packages: z3-solver, triton, setuptools, nvidia-nvtx-cu12, nvidia-nccl-cu12, nvidia-cusparse-cu12, nvidia-curand-cu12, nvidia-cufft-cu12, nvidia-cuda-runtime-cu12, nvidia-cuda-nvrtc-cu12, nvidia-cuda-cupti-cu12, nvidia-cublas-cu12, numpy, humanfriendly, dependencies, concrete-ml-extensions, pandas, onnx, nvidia-cusolver-cu12, nvidia-cudnn-cu12, coloredlogs, xgboost, torch, scikit-learn, onnxruntime, onnxoptimizer, onnxconverter-common, unfoldNd, skorch, skops, skl2onnx, onnxmltools, hummingbird-ml, concrete-python, brevitas, concrete-ml\n",
            "  Attempting uninstall: triton\n",
            "    Found existing installation: triton 3.2.0\n",
            "    Uninstalling triton-3.2.0:\n",
            "      Successfully uninstalled triton-3.2.0\n",
            "  Attempting uninstall: setuptools\n",
            "    Found existing installation: setuptools 75.2.0\n",
            "    Uninstalling setuptools-75.2.0:\n",
            "      Successfully uninstalled setuptools-75.2.0\n",
            "  Attempting uninstall: nvidia-nvtx-cu12\n",
            "    Found existing installation: nvidia-nvtx-cu12 12.4.127\n",
            "    Uninstalling nvidia-nvtx-cu12-12.4.127:\n",
            "      Successfully uninstalled nvidia-nvtx-cu12-12.4.127\n",
            "  Attempting uninstall: nvidia-nccl-cu12\n",
            "    Found existing installation: nvidia-nccl-cu12 2.21.5\n",
            "    Uninstalling nvidia-nccl-cu12-2.21.5:\n",
            "      Successfully uninstalled nvidia-nccl-cu12-2.21.5\n",
            "  Attempting uninstall: nvidia-cusparse-cu12\n",
            "    Found existing installation: nvidia-cusparse-cu12 12.5.1.3\n",
            "    Uninstalling nvidia-cusparse-cu12-12.5.1.3:\n",
            "      Successfully uninstalled nvidia-cusparse-cu12-12.5.1.3\n",
            "  Attempting uninstall: nvidia-curand-cu12\n",
            "    Found existing installation: nvidia-curand-cu12 10.3.6.82\n",
            "    Uninstalling nvidia-curand-cu12-10.3.6.82:\n",
            "      Successfully uninstalled nvidia-curand-cu12-10.3.6.82\n",
            "  Attempting uninstall: nvidia-cufft-cu12\n",
            "    Found existing installation: nvidia-cufft-cu12 11.2.3.61\n",
            "    Uninstalling nvidia-cufft-cu12-11.2.3.61:\n",
            "      Successfully uninstalled nvidia-cufft-cu12-11.2.3.61\n",
            "  Attempting uninstall: nvidia-cuda-runtime-cu12\n",
            "    Found existing installation: nvidia-cuda-runtime-cu12 12.5.82\n",
            "    Uninstalling nvidia-cuda-runtime-cu12-12.5.82:\n",
            "      Successfully uninstalled nvidia-cuda-runtime-cu12-12.5.82\n",
            "  Attempting uninstall: nvidia-cuda-nvrtc-cu12\n",
            "    Found existing installation: nvidia-cuda-nvrtc-cu12 12.5.82\n",
            "    Uninstalling nvidia-cuda-nvrtc-cu12-12.5.82:\n",
            "      Successfully uninstalled nvidia-cuda-nvrtc-cu12-12.5.82\n",
            "  Attempting uninstall: nvidia-cuda-cupti-cu12\n",
            "    Found existing installation: nvidia-cuda-cupti-cu12 12.5.82\n",
            "    Uninstalling nvidia-cuda-cupti-cu12-12.5.82:\n",
            "      Successfully uninstalled nvidia-cuda-cupti-cu12-12.5.82\n",
            "  Attempting uninstall: nvidia-cublas-cu12\n",
            "    Found existing installation: nvidia-cublas-cu12 12.5.3.2\n",
            "    Uninstalling nvidia-cublas-cu12-12.5.3.2:\n",
            "      Successfully uninstalled nvidia-cublas-cu12-12.5.3.2\n",
            "  Attempting uninstall: numpy\n",
            "    Found existing installation: numpy 2.0.2\n",
            "    Uninstalling numpy-2.0.2:\n",
            "      Successfully uninstalled numpy-2.0.2\n",
            "  Attempting uninstall: pandas\n",
            "    Found existing installation: pandas 2.2.2\n",
            "    Uninstalling pandas-2.2.2:\n",
            "      Successfully uninstalled pandas-2.2.2\n",
            "  Attempting uninstall: nvidia-cusolver-cu12\n",
            "    Found existing installation: nvidia-cusolver-cu12 11.6.3.83\n",
            "    Uninstalling nvidia-cusolver-cu12-11.6.3.83:\n",
            "      Successfully uninstalled nvidia-cusolver-cu12-11.6.3.83\n",
            "  Attempting uninstall: nvidia-cudnn-cu12\n",
            "    Found existing installation: nvidia-cudnn-cu12 9.3.0.75\n",
            "    Uninstalling nvidia-cudnn-cu12-9.3.0.75:\n",
            "      Successfully uninstalled nvidia-cudnn-cu12-9.3.0.75\n",
            "  Attempting uninstall: xgboost\n",
            "    Found existing installation: xgboost 2.1.4\n",
            "    Uninstalling xgboost-2.1.4:\n",
            "      Successfully uninstalled xgboost-2.1.4\n",
            "  Attempting uninstall: torch\n",
            "    Found existing installation: torch 2.6.0+cu124\n",
            "    Uninstalling torch-2.6.0+cu124:\n",
            "      Successfully uninstalled torch-2.6.0+cu124\n",
            "  Attempting uninstall: scikit-learn\n",
            "    Found existing installation: scikit-learn 1.6.1\n",
            "    Uninstalling scikit-learn-1.6.1:\n",
            "      Successfully uninstalled scikit-learn-1.6.1\n",
            "\u001b[31mERROR: pip's dependency resolver does not currently take into account all the packages that are installed. This behaviour is the source of the following dependency conflicts.\n",
            "ipython 7.34.0 requires jedi>=0.16, which is not installed.\n",
            "google-colab 1.0.0 requires pandas==2.2.2, but you have pandas 2.0.3 which is incompatible.\n",
            "torchvision 0.21.0+cu124 requires torch==2.6.0, but you have torch 2.3.1 which is incompatible.\n",
            "thinc 8.3.6 requires numpy<3.0.0,>=2.0.0, but you have numpy 1.26.4 which is incompatible.\n",
            "mizani 0.13.5 requires pandas>=2.2.0, but you have pandas 2.0.3 which is incompatible.\n",
            "plotnine 0.14.5 requires pandas>=2.2.0, but you have pandas 2.0.3 which is incompatible.\n",
            "xarray 2025.3.1 requires pandas>=2.1, but you have pandas 2.0.3 which is incompatible.\n",
            "torchaudio 2.6.0+cu124 requires torch==2.6.0, but you have torch 2.3.1 which is incompatible.\u001b[0m\u001b[31m\n",
            "\u001b[0mSuccessfully installed brevitas-0.10.2 coloredlogs-15.0.1 concrete-ml-1.9.0 concrete-ml-extensions-0.1.9 concrete-python-2.10.0 dependencies-2.0.1 humanfriendly-10.0 hummingbird-ml-0.4.11 numpy-1.26.4 nvidia-cublas-cu12-12.1.3.1 nvidia-cuda-cupti-cu12-12.1.105 nvidia-cuda-nvrtc-cu12-12.1.105 nvidia-cuda-runtime-cu12-12.1.105 nvidia-cudnn-cu12-8.9.2.26 nvidia-cufft-cu12-11.0.2.54 nvidia-curand-cu12-10.3.2.106 nvidia-cusolver-cu12-11.4.5.107 nvidia-cusparse-cu12-12.1.0.106 nvidia-nccl-cu12-2.20.5 nvidia-nvtx-cu12-12.1.105 onnx-1.17.0 onnxconverter-common-1.13.0 onnxmltools-1.13.0 onnxoptimizer-0.3.13 onnxruntime-1.18.0 pandas-2.0.3 scikit-learn-1.5.0 setuptools-75.3.0 skl2onnx-1.18.0 skops-0.5.0 skorch-0.11.0 torch-2.3.1 triton-2.3.1 unfoldNd-0.2.3 xgboost-1.6.2 z3-solver-4.13.0.0\n"
          ]
        },
        {
          "output_type": "display_data",
          "data": {
            "application/vnd.colab-display-data+json": {
              "pip_warning": {
                "packages": [
                  "_distutils_hack",
                  "pkg_resources"
                ]
              },
              "id": "cdb83c52d99847e88cedcd4dc32891dd"
            }
          },
          "metadata": {}
        }
      ],
      "source": [
        "!pip install concrete-ml"
      ]
    },
    {
      "cell_type": "markdown",
      "id": "FASW1aeONc1k",
      "metadata": {
        "id": "FASW1aeONc1k"
      },
      "source": [
        "# Imports\n"
      ]
    },
    {
      "cell_type": "code",
      "execution_count": null,
      "id": "iKiYudLp3sPy",
      "metadata": {
        "id": "iKiYudLp3sPy"
      },
      "outputs": [],
      "source": [
        "#load packages\n",
        "import pandas as pd\n",
        "import numpy as np\n",
        "import os.path\n",
        "import os\n",
        "import random\n",
        "import seaborn as sns\n",
        "from sklearn.impute import SimpleImputer, KNNImputer\n",
        "from sklearn.feature_selection import VarianceThreshold\n",
        "from sklearn import preprocessing\n",
        "from sklearn.model_selection import train_test_split, GridSearchCV, KFold, cross_val_score, PredefinedSplit\n",
        "from sklearn.metrics import mean_absolute_error, r2_score, mean_squared_error\n",
        "from sklearn.preprocessing import StandardScaler\n",
        "from concrete.ml.sklearn import XGBRegressor as ConcreteXGBRegressor\n",
        "from concrete.ml.sklearn import Ridge\n",
        "from concrete.ml.deployment import FHEModelDev, FHEModelClient, FHEModelServer\n",
        "import matplotlib.pyplot as plt\n",
        "import time"
      ]
    },
    {
      "cell_type": "markdown",
      "id": "bXBqYBaZ-yuO",
      "metadata": {
        "id": "bXBqYBaZ-yuO"
      },
      "source": [
        "# Data Loading\n",
        "\n",
        "\n",
        "<b>Download the Preprocessed training data:</b>\n",
        "\n",
        "- Train Data (<b>combined_train.csv</b>): https://drive.google.com/file/d/1-1jQb6ScTOYzyxfDTpjqJeTvleLBsxXA/\n",
        "-Test Data (<b>combined_test.csv</b>): https://drive.google.com/file/d/12LGzOoZeAOiJnVr5S4EICnYWRdPnptQD/\n",
        "\n",
        "Place them in your train and test folders\n"
      ]
    },
    {
      "cell_type": "code",
      "execution_count": null,
      "id": "3fjsMEiqrMIv",
      "metadata": {
        "colab": {
          "base_uri": "https://localhost:8080/"
        },
        "id": "3fjsMEiqrMIv",
        "outputId": "236f1381-6ff3-4d90-bcc9-22512705d399"
      },
      "outputs": [
        {
          "output_type": "stream",
          "name": "stdout",
          "text": [
            "Mounted at /content/drive\n"
          ]
        }
      ],
      "source": [
        "from google.colab import drive\n",
        "drive.mount('/content/drive')"
      ]
    },
    {
      "cell_type": "code",
      "source": [
        "cd /content/drive/.../ConcreteBioage"
      ],
      "metadata": {
        "id": "ZbeQxDMr47Kl"
      },
      "id": "ZbeQxDMr47Kl",
      "execution_count": null,
      "outputs": []
    },
    {
      "cell_type": "code",
      "execution_count": null,
      "id": "-Pbg4IHCl5ww",
      "metadata": {
        "id": "-Pbg4IHCl5ww"
      },
      "outputs": [],
      "source": [
        "train_df = pd.read_csv(\"./train/combined_train.csv\").iloc[:, 1:]\n",
        "test_df = pd.read_csv(\"./test/combined_test.csv\").iloc[:, 1:]"
      ]
    },
    {
      "cell_type": "markdown",
      "id": "ePPzlsIVC38b",
      "metadata": {
        "id": "ePPzlsIVC38b"
      },
      "source": [
        "# Preprocessing"
      ]
    },
    {
      "cell_type": "code",
      "execution_count": null,
      "id": "rF5QHabxmcRB",
      "metadata": {
        "id": "rF5QHabxmcRB"
      },
      "outputs": [],
      "source": [
        "def preprocess_data(df):\n",
        "\n",
        "    pat_data = df[['dataset', 'tissue_type', 'age', 'gender']]\n",
        "    df = df.drop(columns = ['dataset', 'tissue_type', 'age', 'gender'], axis = 0)\n",
        "    indexes = df.index\n",
        "    df = df.astype('float64')\n",
        "\n",
        "    print('Shape of the dataframe:')\n",
        "    print(df.shape)\n",
        "\n",
        "    print('Number of NAs:')\n",
        "    print(np.sum(pd.DataFrame(df).isna().any()))\n",
        "\n",
        "    imputer = KNNImputer()\n",
        "    df = imputer.fit_transform(df)\n",
        "\n",
        "    gs = pd.read_csv('./gold_standard.csv')\n",
        "    gs_cpgs = np.array(gs.Name)\n",
        "\n",
        "    df = pd.DataFrame(df, columns = gs_cpgs, index = indexes)\n",
        "    df = pd.concat([pat_data, df], axis=1, sort=False, join='inner')\n",
        "\n",
        "    return df"
      ]
    },
    {
      "cell_type": "code",
      "execution_count": null,
      "id": "8U6_SF7J0QvC",
      "metadata": {
        "colab": {
          "base_uri": "https://localhost:8080/"
        },
        "id": "8U6_SF7J0QvC",
        "outputId": "b41078f6-d857-4cb7-88ad-94d43e25a6f0"
      },
      "outputs": [
        {
          "output_type": "stream",
          "name": "stdout",
          "text": [
            "Shape of the dataframe:\n",
            "(8050, 21368)\n",
            "Number of NAs:\n",
            "0\n",
            "Shape of the dataframe:\n",
            "(5455, 21368)\n",
            "Number of NAs:\n",
            "0\n"
          ]
        }
      ],
      "source": [
        "train = preprocess_data(train_df)\n",
        "test = preprocess_data(test_df)"
      ]
    },
    {
      "cell_type": "code",
      "execution_count": null,
      "id": "fXZXG14AUHs2",
      "metadata": {
        "id": "fXZXG14AUHs2"
      },
      "outputs": [],
      "source": [
        "def get_scaled_data(data):\n",
        "  data_ages = data['age'].astype('float64')\n",
        "\n",
        "  data_info = data[['dataset', 'tissue_type', 'age', 'gender']]\n",
        "  data = data.drop(columns = ['dataset', 'tissue_type', 'age', 'gender'], axis=0)\n",
        "\n",
        "  data_cols = data.columns\n",
        "  data_index = data.index\n",
        "\n",
        "  scaler = preprocessing.StandardScaler()\n",
        "  #scaler = preprocessing.RobustScaler()\n",
        "\n",
        "  data_scaled = pd.DataFrame(scaler.fit_transform(data), index = data_index, columns = data_cols)\n",
        "  np.save(\"./means_train.npy\", np.array(scaler.mean_))\n",
        "  np.save(\"./variance_train.npy\", np.sqrt(np.array(scaler.var_)))\n",
        "\n",
        "  return data_scaled, data_ages"
      ]
    },
    {
      "cell_type": "code",
      "execution_count": null,
      "id": "4kQ0gKp9aDpZ",
      "metadata": {
        "id": "4kQ0gKp9aDpZ"
      },
      "outputs": [],
      "source": [
        "train_scaled, train_ages = get_scaled_data(train)\n",
        "test_scaled, test_ages = get_scaled_data(test)"
      ]
    },
    {
      "cell_type": "code",
      "execution_count": null,
      "id": "iEvkb4jQTzIs",
      "metadata": {
        "colab": {
          "base_uri": "https://localhost:8080/",
          "height": 444
        },
        "id": "iEvkb4jQTzIs",
        "outputId": "a4af5ba9-d80c-494d-8f76-407f71a156a3"
      },
      "outputs": [
        {
          "output_type": "execute_result",
          "data": {
            "text/plain": [
              "      cg00000292  cg00002426  cg00003994  cg00005847  cg00007981  cg00008493  \\\n",
              "0       0.671917    0.925495    0.928118    0.018260    1.954693    0.457207   \n",
              "1       0.705224    0.829852   -0.455569   -0.427539    1.617096    0.476096   \n",
              "2       0.666858    0.715897   -0.020523   -0.247837    0.689927    0.422341   \n",
              "3       0.988973    0.848502   -0.448827   -0.646449    0.784485    0.450761   \n",
              "4       0.766668    0.439313    0.413780   -0.622320    0.081508    0.427733   \n",
              "...          ...         ...         ...         ...         ...         ...   \n",
              "8045    0.232088   -1.027428   -0.062576    0.982743   -0.675927    0.215989   \n",
              "8046   -0.103944   -0.544826   -0.669850    2.254891   -0.475262    0.193672   \n",
              "8047    0.240613   -1.049102   -0.096024    1.131589   -0.363768    0.199815   \n",
              "8048   -0.531644   -0.202277   -0.453956    2.906278   -0.578755    0.260453   \n",
              "8049    0.311177   -0.977741    2.982977    2.438038   -0.373468    0.003743   \n",
              "\n",
              "      cg00008713  cg00009407  cg00011459  cg00012199  ...  cg27650175  \\\n",
              "0      -1.254751   -0.880913    0.463006   -0.345535  ...   -0.461577   \n",
              "1      -0.364827   -0.993970    0.232412   -0.731246  ...   -0.415071   \n",
              "2      -0.995150   -0.859279   -0.024915   -0.929957  ...   -0.475985   \n",
              "3      -0.450825   -0.918101    0.487792   -0.778824  ...   -0.441893   \n",
              "4      -1.096055    0.744667   -1.395332   -0.923520  ...   -0.471631   \n",
              "...          ...         ...         ...         ...  ...         ...   \n",
              "8045    0.374957   -0.439531   -0.702825   -0.046023  ...   -0.348102   \n",
              "8046    0.976969   -0.020136   -1.074384    0.752249  ...   -0.354621   \n",
              "8047   -0.370802   -0.621973   -0.292270    0.237091  ...   -0.226891   \n",
              "8048    0.079774   -0.315718    0.187751    0.182756  ...   -0.260339   \n",
              "8049   -0.337781   -0.144470   -0.720327    1.316868  ...   -0.297499   \n",
              "\n",
              "      cg27650434  cg27652350  cg27653134  cg27654142  cg27655905  cg27657283  \\\n",
              "0      -0.931816   -0.931975    0.517841   -0.911718   -1.108150    0.430969   \n",
              "1      -0.398567   -0.817415    0.436550   -0.565861   -0.437285   -0.008975   \n",
              "2       0.091989   -0.905192    0.364677   -1.043282    0.203386    0.243932   \n",
              "3       0.573411   -1.003452    0.790781   -0.707193   -0.413068   -0.180585   \n",
              "4      -1.240014   -0.685836    0.244981   -1.077561   -0.130157    1.413205   \n",
              "...          ...         ...         ...         ...         ...         ...   \n",
              "8045    0.697415    2.091713   -0.478423   -0.432959   -0.971489   -0.748491   \n",
              "8046    0.031190    1.255057   -0.254561   -0.487563   -0.628223   -0.610812   \n",
              "8047   -0.880754    2.199584    0.106570   -0.439681   -0.610464   -0.741492   \n",
              "8048    0.436106    0.780981    0.161930    0.045264   -1.045244   -0.734425   \n",
              "8049   -0.457183    3.118668   -0.181764   -0.158198   -0.614376   -0.328160   \n",
              "\n",
              "      cg27662379  cg27662877  cg27665659  \n",
              "0      -0.374165   -0.701712   -0.834000  \n",
              "1      -1.052358   -0.505070   -0.880381  \n",
              "2      -0.534174   -0.672095   -0.641470  \n",
              "3      -0.668976   -0.804158   -0.522947  \n",
              "4      -0.603394   -0.638057   -1.096026  \n",
              "...          ...         ...         ...  \n",
              "8045    0.020090    0.164825    2.061029  \n",
              "8046    0.406431   -0.436990    1.261557  \n",
              "8047    1.541890    2.682218    0.526813  \n",
              "8048   -0.057124   -0.667911    3.145518  \n",
              "8049    2.400502    0.519786    1.079216  \n",
              "\n",
              "[8050 rows x 21368 columns]"
            ],
            "text/html": [
              "\n",
              "  <div id=\"df-4ac296bc-588d-4d26-87cb-c8134cc3741e\" class=\"colab-df-container\">\n",
              "    <div>\n",
              "<style scoped>\n",
              "    .dataframe tbody tr th:only-of-type {\n",
              "        vertical-align: middle;\n",
              "    }\n",
              "\n",
              "    .dataframe tbody tr th {\n",
              "        vertical-align: top;\n",
              "    }\n",
              "\n",
              "    .dataframe thead th {\n",
              "        text-align: right;\n",
              "    }\n",
              "</style>\n",
              "<table border=\"1\" class=\"dataframe\">\n",
              "  <thead>\n",
              "    <tr style=\"text-align: right;\">\n",
              "      <th></th>\n",
              "      <th>cg00000292</th>\n",
              "      <th>cg00002426</th>\n",
              "      <th>cg00003994</th>\n",
              "      <th>cg00005847</th>\n",
              "      <th>cg00007981</th>\n",
              "      <th>cg00008493</th>\n",
              "      <th>cg00008713</th>\n",
              "      <th>cg00009407</th>\n",
              "      <th>cg00011459</th>\n",
              "      <th>cg00012199</th>\n",
              "      <th>...</th>\n",
              "      <th>cg27650175</th>\n",
              "      <th>cg27650434</th>\n",
              "      <th>cg27652350</th>\n",
              "      <th>cg27653134</th>\n",
              "      <th>cg27654142</th>\n",
              "      <th>cg27655905</th>\n",
              "      <th>cg27657283</th>\n",
              "      <th>cg27662379</th>\n",
              "      <th>cg27662877</th>\n",
              "      <th>cg27665659</th>\n",
              "    </tr>\n",
              "  </thead>\n",
              "  <tbody>\n",
              "    <tr>\n",
              "      <th>0</th>\n",
              "      <td>0.671917</td>\n",
              "      <td>0.925495</td>\n",
              "      <td>0.928118</td>\n",
              "      <td>0.018260</td>\n",
              "      <td>1.954693</td>\n",
              "      <td>0.457207</td>\n",
              "      <td>-1.254751</td>\n",
              "      <td>-0.880913</td>\n",
              "      <td>0.463006</td>\n",
              "      <td>-0.345535</td>\n",
              "      <td>...</td>\n",
              "      <td>-0.461577</td>\n",
              "      <td>-0.931816</td>\n",
              "      <td>-0.931975</td>\n",
              "      <td>0.517841</td>\n",
              "      <td>-0.911718</td>\n",
              "      <td>-1.108150</td>\n",
              "      <td>0.430969</td>\n",
              "      <td>-0.374165</td>\n",
              "      <td>-0.701712</td>\n",
              "      <td>-0.834000</td>\n",
              "    </tr>\n",
              "    <tr>\n",
              "      <th>1</th>\n",
              "      <td>0.705224</td>\n",
              "      <td>0.829852</td>\n",
              "      <td>-0.455569</td>\n",
              "      <td>-0.427539</td>\n",
              "      <td>1.617096</td>\n",
              "      <td>0.476096</td>\n",
              "      <td>-0.364827</td>\n",
              "      <td>-0.993970</td>\n",
              "      <td>0.232412</td>\n",
              "      <td>-0.731246</td>\n",
              "      <td>...</td>\n",
              "      <td>-0.415071</td>\n",
              "      <td>-0.398567</td>\n",
              "      <td>-0.817415</td>\n",
              "      <td>0.436550</td>\n",
              "      <td>-0.565861</td>\n",
              "      <td>-0.437285</td>\n",
              "      <td>-0.008975</td>\n",
              "      <td>-1.052358</td>\n",
              "      <td>-0.505070</td>\n",
              "      <td>-0.880381</td>\n",
              "    </tr>\n",
              "    <tr>\n",
              "      <th>2</th>\n",
              "      <td>0.666858</td>\n",
              "      <td>0.715897</td>\n",
              "      <td>-0.020523</td>\n",
              "      <td>-0.247837</td>\n",
              "      <td>0.689927</td>\n",
              "      <td>0.422341</td>\n",
              "      <td>-0.995150</td>\n",
              "      <td>-0.859279</td>\n",
              "      <td>-0.024915</td>\n",
              "      <td>-0.929957</td>\n",
              "      <td>...</td>\n",
              "      <td>-0.475985</td>\n",
              "      <td>0.091989</td>\n",
              "      <td>-0.905192</td>\n",
              "      <td>0.364677</td>\n",
              "      <td>-1.043282</td>\n",
              "      <td>0.203386</td>\n",
              "      <td>0.243932</td>\n",
              "      <td>-0.534174</td>\n",
              "      <td>-0.672095</td>\n",
              "      <td>-0.641470</td>\n",
              "    </tr>\n",
              "    <tr>\n",
              "      <th>3</th>\n",
              "      <td>0.988973</td>\n",
              "      <td>0.848502</td>\n",
              "      <td>-0.448827</td>\n",
              "      <td>-0.646449</td>\n",
              "      <td>0.784485</td>\n",
              "      <td>0.450761</td>\n",
              "      <td>-0.450825</td>\n",
              "      <td>-0.918101</td>\n",
              "      <td>0.487792</td>\n",
              "      <td>-0.778824</td>\n",
              "      <td>...</td>\n",
              "      <td>-0.441893</td>\n",
              "      <td>0.573411</td>\n",
              "      <td>-1.003452</td>\n",
              "      <td>0.790781</td>\n",
              "      <td>-0.707193</td>\n",
              "      <td>-0.413068</td>\n",
              "      <td>-0.180585</td>\n",
              "      <td>-0.668976</td>\n",
              "      <td>-0.804158</td>\n",
              "      <td>-0.522947</td>\n",
              "    </tr>\n",
              "    <tr>\n",
              "      <th>4</th>\n",
              "      <td>0.766668</td>\n",
              "      <td>0.439313</td>\n",
              "      <td>0.413780</td>\n",
              "      <td>-0.622320</td>\n",
              "      <td>0.081508</td>\n",
              "      <td>0.427733</td>\n",
              "      <td>-1.096055</td>\n",
              "      <td>0.744667</td>\n",
              "      <td>-1.395332</td>\n",
              "      <td>-0.923520</td>\n",
              "      <td>...</td>\n",
              "      <td>-0.471631</td>\n",
              "      <td>-1.240014</td>\n",
              "      <td>-0.685836</td>\n",
              "      <td>0.244981</td>\n",
              "      <td>-1.077561</td>\n",
              "      <td>-0.130157</td>\n",
              "      <td>1.413205</td>\n",
              "      <td>-0.603394</td>\n",
              "      <td>-0.638057</td>\n",
              "      <td>-1.096026</td>\n",
              "    </tr>\n",
              "    <tr>\n",
              "      <th>...</th>\n",
              "      <td>...</td>\n",
              "      <td>...</td>\n",
              "      <td>...</td>\n",
              "      <td>...</td>\n",
              "      <td>...</td>\n",
              "      <td>...</td>\n",
              "      <td>...</td>\n",
              "      <td>...</td>\n",
              "      <td>...</td>\n",
              "      <td>...</td>\n",
              "      <td>...</td>\n",
              "      <td>...</td>\n",
              "      <td>...</td>\n",
              "      <td>...</td>\n",
              "      <td>...</td>\n",
              "      <td>...</td>\n",
              "      <td>...</td>\n",
              "      <td>...</td>\n",
              "      <td>...</td>\n",
              "      <td>...</td>\n",
              "      <td>...</td>\n",
              "    </tr>\n",
              "    <tr>\n",
              "      <th>8045</th>\n",
              "      <td>0.232088</td>\n",
              "      <td>-1.027428</td>\n",
              "      <td>-0.062576</td>\n",
              "      <td>0.982743</td>\n",
              "      <td>-0.675927</td>\n",
              "      <td>0.215989</td>\n",
              "      <td>0.374957</td>\n",
              "      <td>-0.439531</td>\n",
              "      <td>-0.702825</td>\n",
              "      <td>-0.046023</td>\n",
              "      <td>...</td>\n",
              "      <td>-0.348102</td>\n",
              "      <td>0.697415</td>\n",
              "      <td>2.091713</td>\n",
              "      <td>-0.478423</td>\n",
              "      <td>-0.432959</td>\n",
              "      <td>-0.971489</td>\n",
              "      <td>-0.748491</td>\n",
              "      <td>0.020090</td>\n",
              "      <td>0.164825</td>\n",
              "      <td>2.061029</td>\n",
              "    </tr>\n",
              "    <tr>\n",
              "      <th>8046</th>\n",
              "      <td>-0.103944</td>\n",
              "      <td>-0.544826</td>\n",
              "      <td>-0.669850</td>\n",
              "      <td>2.254891</td>\n",
              "      <td>-0.475262</td>\n",
              "      <td>0.193672</td>\n",
              "      <td>0.976969</td>\n",
              "      <td>-0.020136</td>\n",
              "      <td>-1.074384</td>\n",
              "      <td>0.752249</td>\n",
              "      <td>...</td>\n",
              "      <td>-0.354621</td>\n",
              "      <td>0.031190</td>\n",
              "      <td>1.255057</td>\n",
              "      <td>-0.254561</td>\n",
              "      <td>-0.487563</td>\n",
              "      <td>-0.628223</td>\n",
              "      <td>-0.610812</td>\n",
              "      <td>0.406431</td>\n",
              "      <td>-0.436990</td>\n",
              "      <td>1.261557</td>\n",
              "    </tr>\n",
              "    <tr>\n",
              "      <th>8047</th>\n",
              "      <td>0.240613</td>\n",
              "      <td>-1.049102</td>\n",
              "      <td>-0.096024</td>\n",
              "      <td>1.131589</td>\n",
              "      <td>-0.363768</td>\n",
              "      <td>0.199815</td>\n",
              "      <td>-0.370802</td>\n",
              "      <td>-0.621973</td>\n",
              "      <td>-0.292270</td>\n",
              "      <td>0.237091</td>\n",
              "      <td>...</td>\n",
              "      <td>-0.226891</td>\n",
              "      <td>-0.880754</td>\n",
              "      <td>2.199584</td>\n",
              "      <td>0.106570</td>\n",
              "      <td>-0.439681</td>\n",
              "      <td>-0.610464</td>\n",
              "      <td>-0.741492</td>\n",
              "      <td>1.541890</td>\n",
              "      <td>2.682218</td>\n",
              "      <td>0.526813</td>\n",
              "    </tr>\n",
              "    <tr>\n",
              "      <th>8048</th>\n",
              "      <td>-0.531644</td>\n",
              "      <td>-0.202277</td>\n",
              "      <td>-0.453956</td>\n",
              "      <td>2.906278</td>\n",
              "      <td>-0.578755</td>\n",
              "      <td>0.260453</td>\n",
              "      <td>0.079774</td>\n",
              "      <td>-0.315718</td>\n",
              "      <td>0.187751</td>\n",
              "      <td>0.182756</td>\n",
              "      <td>...</td>\n",
              "      <td>-0.260339</td>\n",
              "      <td>0.436106</td>\n",
              "      <td>0.780981</td>\n",
              "      <td>0.161930</td>\n",
              "      <td>0.045264</td>\n",
              "      <td>-1.045244</td>\n",
              "      <td>-0.734425</td>\n",
              "      <td>-0.057124</td>\n",
              "      <td>-0.667911</td>\n",
              "      <td>3.145518</td>\n",
              "    </tr>\n",
              "    <tr>\n",
              "      <th>8049</th>\n",
              "      <td>0.311177</td>\n",
              "      <td>-0.977741</td>\n",
              "      <td>2.982977</td>\n",
              "      <td>2.438038</td>\n",
              "      <td>-0.373468</td>\n",
              "      <td>0.003743</td>\n",
              "      <td>-0.337781</td>\n",
              "      <td>-0.144470</td>\n",
              "      <td>-0.720327</td>\n",
              "      <td>1.316868</td>\n",
              "      <td>...</td>\n",
              "      <td>-0.297499</td>\n",
              "      <td>-0.457183</td>\n",
              "      <td>3.118668</td>\n",
              "      <td>-0.181764</td>\n",
              "      <td>-0.158198</td>\n",
              "      <td>-0.614376</td>\n",
              "      <td>-0.328160</td>\n",
              "      <td>2.400502</td>\n",
              "      <td>0.519786</td>\n",
              "      <td>1.079216</td>\n",
              "    </tr>\n",
              "  </tbody>\n",
              "</table>\n",
              "<p>8050 rows × 21368 columns</p>\n",
              "</div>\n",
              "    <div class=\"colab-df-buttons\">\n",
              "\n",
              "  <div class=\"colab-df-container\">\n",
              "    <button class=\"colab-df-convert\" onclick=\"convertToInteractive('df-4ac296bc-588d-4d26-87cb-c8134cc3741e')\"\n",
              "            title=\"Convert this dataframe to an interactive table.\"\n",
              "            style=\"display:none;\">\n",
              "\n",
              "  <svg xmlns=\"http://www.w3.org/2000/svg\" height=\"24px\" viewBox=\"0 -960 960 960\">\n",
              "    <path d=\"M120-120v-720h720v720H120Zm60-500h600v-160H180v160Zm220 220h160v-160H400v160Zm0 220h160v-160H400v160ZM180-400h160v-160H180v160Zm440 0h160v-160H620v160ZM180-180h160v-160H180v160Zm440 0h160v-160H620v160Z\"/>\n",
              "  </svg>\n",
              "    </button>\n",
              "\n",
              "  <style>\n",
              "    .colab-df-container {\n",
              "      display:flex;\n",
              "      gap: 12px;\n",
              "    }\n",
              "\n",
              "    .colab-df-convert {\n",
              "      background-color: #E8F0FE;\n",
              "      border: none;\n",
              "      border-radius: 50%;\n",
              "      cursor: pointer;\n",
              "      display: none;\n",
              "      fill: #1967D2;\n",
              "      height: 32px;\n",
              "      padding: 0 0 0 0;\n",
              "      width: 32px;\n",
              "    }\n",
              "\n",
              "    .colab-df-convert:hover {\n",
              "      background-color: #E2EBFA;\n",
              "      box-shadow: 0px 1px 2px rgba(60, 64, 67, 0.3), 0px 1px 3px 1px rgba(60, 64, 67, 0.15);\n",
              "      fill: #174EA6;\n",
              "    }\n",
              "\n",
              "    .colab-df-buttons div {\n",
              "      margin-bottom: 4px;\n",
              "    }\n",
              "\n",
              "    [theme=dark] .colab-df-convert {\n",
              "      background-color: #3B4455;\n",
              "      fill: #D2E3FC;\n",
              "    }\n",
              "\n",
              "    [theme=dark] .colab-df-convert:hover {\n",
              "      background-color: #434B5C;\n",
              "      box-shadow: 0px 1px 3px 1px rgba(0, 0, 0, 0.15);\n",
              "      filter: drop-shadow(0px 1px 2px rgba(0, 0, 0, 0.3));\n",
              "      fill: #FFFFFF;\n",
              "    }\n",
              "  </style>\n",
              "\n",
              "    <script>\n",
              "      const buttonEl =\n",
              "        document.querySelector('#df-4ac296bc-588d-4d26-87cb-c8134cc3741e button.colab-df-convert');\n",
              "      buttonEl.style.display =\n",
              "        google.colab.kernel.accessAllowed ? 'block' : 'none';\n",
              "\n",
              "      async function convertToInteractive(key) {\n",
              "        const element = document.querySelector('#df-4ac296bc-588d-4d26-87cb-c8134cc3741e');\n",
              "        const dataTable =\n",
              "          await google.colab.kernel.invokeFunction('convertToInteractive',\n",
              "                                                    [key], {});\n",
              "        if (!dataTable) return;\n",
              "\n",
              "        const docLinkHtml = 'Like what you see? Visit the ' +\n",
              "          '<a target=\"_blank\" href=https://colab.research.google.com/notebooks/data_table.ipynb>data table notebook</a>'\n",
              "          + ' to learn more about interactive tables.';\n",
              "        element.innerHTML = '';\n",
              "        dataTable['output_type'] = 'display_data';\n",
              "        await google.colab.output.renderOutput(dataTable, element);\n",
              "        const docLink = document.createElement('div');\n",
              "        docLink.innerHTML = docLinkHtml;\n",
              "        element.appendChild(docLink);\n",
              "      }\n",
              "    </script>\n",
              "  </div>\n",
              "\n",
              "\n",
              "    <div id=\"df-88990404-6589-41c5-a640-68d03c1dda4e\">\n",
              "      <button class=\"colab-df-quickchart\" onclick=\"quickchart('df-88990404-6589-41c5-a640-68d03c1dda4e')\"\n",
              "                title=\"Suggest charts\"\n",
              "                style=\"display:none;\">\n",
              "\n",
              "<svg xmlns=\"http://www.w3.org/2000/svg\" height=\"24px\"viewBox=\"0 0 24 24\"\n",
              "     width=\"24px\">\n",
              "    <g>\n",
              "        <path d=\"M19 3H5c-1.1 0-2 .9-2 2v14c0 1.1.9 2 2 2h14c1.1 0 2-.9 2-2V5c0-1.1-.9-2-2-2zM9 17H7v-7h2v7zm4 0h-2V7h2v10zm4 0h-2v-4h2v4z\"/>\n",
              "    </g>\n",
              "</svg>\n",
              "      </button>\n",
              "\n",
              "<style>\n",
              "  .colab-df-quickchart {\n",
              "      --bg-color: #E8F0FE;\n",
              "      --fill-color: #1967D2;\n",
              "      --hover-bg-color: #E2EBFA;\n",
              "      --hover-fill-color: #174EA6;\n",
              "      --disabled-fill-color: #AAA;\n",
              "      --disabled-bg-color: #DDD;\n",
              "  }\n",
              "\n",
              "  [theme=dark] .colab-df-quickchart {\n",
              "      --bg-color: #3B4455;\n",
              "      --fill-color: #D2E3FC;\n",
              "      --hover-bg-color: #434B5C;\n",
              "      --hover-fill-color: #FFFFFF;\n",
              "      --disabled-bg-color: #3B4455;\n",
              "      --disabled-fill-color: #666;\n",
              "  }\n",
              "\n",
              "  .colab-df-quickchart {\n",
              "    background-color: var(--bg-color);\n",
              "    border: none;\n",
              "    border-radius: 50%;\n",
              "    cursor: pointer;\n",
              "    display: none;\n",
              "    fill: var(--fill-color);\n",
              "    height: 32px;\n",
              "    padding: 0;\n",
              "    width: 32px;\n",
              "  }\n",
              "\n",
              "  .colab-df-quickchart:hover {\n",
              "    background-color: var(--hover-bg-color);\n",
              "    box-shadow: 0 1px 2px rgba(60, 64, 67, 0.3), 0 1px 3px 1px rgba(60, 64, 67, 0.15);\n",
              "    fill: var(--button-hover-fill-color);\n",
              "  }\n",
              "\n",
              "  .colab-df-quickchart-complete:disabled,\n",
              "  .colab-df-quickchart-complete:disabled:hover {\n",
              "    background-color: var(--disabled-bg-color);\n",
              "    fill: var(--disabled-fill-color);\n",
              "    box-shadow: none;\n",
              "  }\n",
              "\n",
              "  .colab-df-spinner {\n",
              "    border: 2px solid var(--fill-color);\n",
              "    border-color: transparent;\n",
              "    border-bottom-color: var(--fill-color);\n",
              "    animation:\n",
              "      spin 1s steps(1) infinite;\n",
              "  }\n",
              "\n",
              "  @keyframes spin {\n",
              "    0% {\n",
              "      border-color: transparent;\n",
              "      border-bottom-color: var(--fill-color);\n",
              "      border-left-color: var(--fill-color);\n",
              "    }\n",
              "    20% {\n",
              "      border-color: transparent;\n",
              "      border-left-color: var(--fill-color);\n",
              "      border-top-color: var(--fill-color);\n",
              "    }\n",
              "    30% {\n",
              "      border-color: transparent;\n",
              "      border-left-color: var(--fill-color);\n",
              "      border-top-color: var(--fill-color);\n",
              "      border-right-color: var(--fill-color);\n",
              "    }\n",
              "    40% {\n",
              "      border-color: transparent;\n",
              "      border-right-color: var(--fill-color);\n",
              "      border-top-color: var(--fill-color);\n",
              "    }\n",
              "    60% {\n",
              "      border-color: transparent;\n",
              "      border-right-color: var(--fill-color);\n",
              "    }\n",
              "    80% {\n",
              "      border-color: transparent;\n",
              "      border-right-color: var(--fill-color);\n",
              "      border-bottom-color: var(--fill-color);\n",
              "    }\n",
              "    90% {\n",
              "      border-color: transparent;\n",
              "      border-bottom-color: var(--fill-color);\n",
              "    }\n",
              "  }\n",
              "</style>\n",
              "\n",
              "      <script>\n",
              "        async function quickchart(key) {\n",
              "          const quickchartButtonEl =\n",
              "            document.querySelector('#' + key + ' button');\n",
              "          quickchartButtonEl.disabled = true;  // To prevent multiple clicks.\n",
              "          quickchartButtonEl.classList.add('colab-df-spinner');\n",
              "          try {\n",
              "            const charts = await google.colab.kernel.invokeFunction(\n",
              "                'suggestCharts', [key], {});\n",
              "          } catch (error) {\n",
              "            console.error('Error during call to suggestCharts:', error);\n",
              "          }\n",
              "          quickchartButtonEl.classList.remove('colab-df-spinner');\n",
              "          quickchartButtonEl.classList.add('colab-df-quickchart-complete');\n",
              "        }\n",
              "        (() => {\n",
              "          let quickchartButtonEl =\n",
              "            document.querySelector('#df-88990404-6589-41c5-a640-68d03c1dda4e button');\n",
              "          quickchartButtonEl.style.display =\n",
              "            google.colab.kernel.accessAllowed ? 'block' : 'none';\n",
              "        })();\n",
              "      </script>\n",
              "    </div>\n",
              "\n",
              "  <div id=\"id_f52adb94-f123-4a85-9c00-ffc13e8f2ed8\">\n",
              "    <style>\n",
              "      .colab-df-generate {\n",
              "        background-color: #E8F0FE;\n",
              "        border: none;\n",
              "        border-radius: 50%;\n",
              "        cursor: pointer;\n",
              "        display: none;\n",
              "        fill: #1967D2;\n",
              "        height: 32px;\n",
              "        padding: 0 0 0 0;\n",
              "        width: 32px;\n",
              "      }\n",
              "\n",
              "      .colab-df-generate:hover {\n",
              "        background-color: #E2EBFA;\n",
              "        box-shadow: 0px 1px 2px rgba(60, 64, 67, 0.3), 0px 1px 3px 1px rgba(60, 64, 67, 0.15);\n",
              "        fill: #174EA6;\n",
              "      }\n",
              "\n",
              "      [theme=dark] .colab-df-generate {\n",
              "        background-color: #3B4455;\n",
              "        fill: #D2E3FC;\n",
              "      }\n",
              "\n",
              "      [theme=dark] .colab-df-generate:hover {\n",
              "        background-color: #434B5C;\n",
              "        box-shadow: 0px 1px 3px 1px rgba(0, 0, 0, 0.15);\n",
              "        filter: drop-shadow(0px 1px 2px rgba(0, 0, 0, 0.3));\n",
              "        fill: #FFFFFF;\n",
              "      }\n",
              "    </style>\n",
              "    <button class=\"colab-df-generate\" onclick=\"generateWithVariable('train_scaled')\"\n",
              "            title=\"Generate code using this dataframe.\"\n",
              "            style=\"display:none;\">\n",
              "\n",
              "  <svg xmlns=\"http://www.w3.org/2000/svg\" height=\"24px\"viewBox=\"0 0 24 24\"\n",
              "       width=\"24px\">\n",
              "    <path d=\"M7,19H8.4L18.45,9,17,7.55,7,17.6ZM5,21V16.75L18.45,3.32a2,2,0,0,1,2.83,0l1.4,1.43a1.91,1.91,0,0,1,.58,1.4,1.91,1.91,0,0,1-.58,1.4L9.25,21ZM18.45,9,17,7.55Zm-12,3A5.31,5.31,0,0,0,4.9,8.1,5.31,5.31,0,0,0,1,6.5,5.31,5.31,0,0,0,4.9,4.9,5.31,5.31,0,0,0,6.5,1,5.31,5.31,0,0,0,8.1,4.9,5.31,5.31,0,0,0,12,6.5,5.46,5.46,0,0,0,6.5,12Z\"/>\n",
              "  </svg>\n",
              "    </button>\n",
              "    <script>\n",
              "      (() => {\n",
              "      const buttonEl =\n",
              "        document.querySelector('#id_f52adb94-f123-4a85-9c00-ffc13e8f2ed8 button.colab-df-generate');\n",
              "      buttonEl.style.display =\n",
              "        google.colab.kernel.accessAllowed ? 'block' : 'none';\n",
              "\n",
              "      buttonEl.onclick = () => {\n",
              "        google.colab.notebook.generateWithVariable('train_scaled');\n",
              "      }\n",
              "      })();\n",
              "    </script>\n",
              "  </div>\n",
              "\n",
              "    </div>\n",
              "  </div>\n"
            ],
            "application/vnd.google.colaboratory.intrinsic+json": {
              "type": "dataframe",
              "variable_name": "train_scaled"
            }
          },
          "metadata": {},
          "execution_count": 9
        }
      ],
      "source": [
        "train_scaled\n",
        "#test_scaled"
      ]
    },
    {
      "cell_type": "markdown",
      "id": "ceeRZbD8nKcN",
      "metadata": {
        "id": "ceeRZbD8nKcN"
      },
      "source": [
        "# Data Splitting"
      ]
    },
    {
      "cell_type": "code",
      "execution_count": null,
      "id": "E20Y8odjSSZN",
      "metadata": {
        "colab": {
          "base_uri": "https://localhost:8080/"
        },
        "id": "E20Y8odjSSZN",
        "outputId": "71b1ddde-10c6-4762-cb5e-10a9456449a5"
      },
      "outputs": [
        {
          "output_type": "stream",
          "name": "stdout",
          "text": [
            "\n",
            "--- Splitting Data (Train/Test) ---\n",
            "Train set shape: X=(7245, 21368), y=(7245,)\n",
            "Test set shape: X=(805, 21368), y=(805,)\n"
          ]
        }
      ],
      "source": [
        "random_seed = 42\n",
        "print(\"\\n--- Splitting Data (Train/Test) ---\")\n",
        "test_set_size = 0.1 # 10% for testing\n",
        "\n",
        "X_train, X_val, y_train, y_val = train_test_split(\n",
        "    train_scaled, train_ages, test_size=test_set_size, random_state=random_seed\n",
        ")\n",
        "\n",
        "print(f\"Train set shape: X={X_train.shape}, y={y_train.shape}\")\n",
        "print(f\"Test set shape: X={X_val.shape}, y={y_val.shape}\")"
      ]
    },
    {
      "cell_type": "markdown",
      "id": "i5O_dTdEoW1z",
      "metadata": {
        "id": "i5O_dTdEoW1z"
      },
      "source": [
        "# Modeling"
      ]
    },
    {
      "cell_type": "markdown",
      "id": "VQuvpHgUorWL",
      "metadata": {
        "id": "VQuvpHgUorWL"
      },
      "source": [
        "## XGB Regressor 6 bits"
      ]
    },
    {
      "cell_type": "code",
      "execution_count": null,
      "id": "ZmU0GBhnZL9B",
      "metadata": {
        "colab": {
          "base_uri": "https://localhost:8080/"
        },
        "id": "ZmU0GBhnZL9B",
        "outputId": "e0f28412-8119-47fe-e494-60c5511f7eef"
      },
      "outputs": [
        {
          "name": "stdout",
          "output_type": "stream",
          "text": [
            "\n",
            "--- Initializing XGB Model ---\n",
            "XGBRegressor(max_depth=4, n_estimators=50, n_jobs=-1)\n",
            "[0]\tvalidation_0-rmse:39.33639\n",
            "[1]\tvalidation_0-rmse:32.12850\n",
            "[2]\tvalidation_0-rmse:29.26695\n",
            "[3]\tvalidation_0-rmse:28.93349\n",
            "[4]\tvalidation_0-rmse:28.41751\n",
            "[5]\tvalidation_0-rmse:28.45161\n",
            "[6]\tvalidation_0-rmse:28.43538\n",
            "[7]\tvalidation_0-rmse:28.51146\n",
            "[8]\tvalidation_0-rmse:28.61330\n",
            "[9]\tvalidation_0-rmse:28.90562\n",
            "[10]\tvalidation_0-rmse:29.08298\n",
            "[11]\tvalidation_0-rmse:29.20073\n",
            "[12]\tvalidation_0-rmse:29.60108\n",
            "[13]\tvalidation_0-rmse:29.63844\n",
            "[14]\tvalidation_0-rmse:29.86582\n",
            "[15]\tvalidation_0-rmse:29.26065\n",
            "[16]\tvalidation_0-rmse:28.72861\n",
            "[17]\tvalidation_0-rmse:28.70049\n",
            "[18]\tvalidation_0-rmse:28.67111\n",
            "[19]\tvalidation_0-rmse:28.66879\n",
            "[20]\tvalidation_0-rmse:28.66510\n",
            "[21]\tvalidation_0-rmse:28.55779\n",
            "[22]\tvalidation_0-rmse:28.55701\n",
            "[23]\tvalidation_0-rmse:28.55686\n",
            "[24]\tvalidation_0-rmse:28.55660\n",
            "[25]\tvalidation_0-rmse:28.55662\n",
            "[26]\tvalidation_0-rmse:28.55828\n",
            "[27]\tvalidation_0-rmse:28.55816\n",
            "[28]\tvalidation_0-rmse:28.56597\n",
            "[29]\tvalidation_0-rmse:28.56173\n",
            "[30]\tvalidation_0-rmse:28.54709\n",
            "[31]\tvalidation_0-rmse:28.54694\n",
            "[32]\tvalidation_0-rmse:28.69034\n",
            "[33]\tvalidation_0-rmse:28.66941\n",
            "[34]\tvalidation_0-rmse:28.66447\n",
            "[35]\tvalidation_0-rmse:28.66297\n",
            "[36]\tvalidation_0-rmse:28.72453\n",
            "[37]\tvalidation_0-rmse:28.72199\n",
            "[38]\tvalidation_0-rmse:28.71891\n",
            "[39]\tvalidation_0-rmse:28.73599\n",
            "[40]\tvalidation_0-rmse:28.72832\n",
            "[41]\tvalidation_0-rmse:29.02268\n",
            "[42]\tvalidation_0-rmse:29.02312\n",
            "[43]\tvalidation_0-rmse:29.02000\n",
            "[44]\tvalidation_0-rmse:29.02746\n",
            "[45]\tvalidation_0-rmse:29.01630\n",
            "[46]\tvalidation_0-rmse:29.03229\n",
            "[47]\tvalidation_0-rmse:28.93433\n",
            "[48]\tvalidation_0-rmse:28.93305\n",
            "[49]\tvalidation_0-rmse:28.93357\n",
            "Final model training completed in 65.56 seconds.\n"
          ]
        }
      ],
      "source": [
        "print(\"\\n--- Initializing XGB Model ---\")\n",
        "\n",
        "n_estimators = 50\n",
        "max_depth = 4\n",
        "n_jobs = -1\n",
        "n_bits = 6\n",
        "\n",
        "concrete_xgb_reg = ConcreteXGBRegressor(\n",
        "    n_bits=n_bits, n_estimators=n_estimators, max_depth=max_depth, n_jobs=n_jobs\n",
        ")\n",
        "print(concrete_xgb_reg)\n",
        "\n",
        "start_time = time.time()\n",
        "concrete_xgb_reg.fit(\n",
        "    X_train.to_numpy(), y_train.to_numpy(),\n",
        "    eval_set=[(X_val.to_numpy(), y_val.to_numpy())],\n",
        "    verbose=True # Show training progress\n",
        ")\n",
        "print(f\"Final model training completed in {time.time() - start_time:.2f} seconds.\")"
      ]
    },
    {
      "cell_type": "code",
      "execution_count": null,
      "id": "PWY76N9K1JDH",
      "metadata": {
        "id": "PWY76N9K1JDH"
      },
      "outputs": [],
      "source": []
    },
    {
      "cell_type": "markdown",
      "id": "IfV36ZWgAlm3",
      "metadata": {
        "id": "IfV36ZWgAlm3"
      },
      "source": [
        "## XGB Regressor 8 bits"
      ]
    },
    {
      "cell_type": "code",
      "execution_count": null,
      "id": "U3tdCzh51JiP",
      "metadata": {
        "colab": {
          "base_uri": "https://localhost:8080/"
        },
        "id": "U3tdCzh51JiP",
        "outputId": "d03988fc-149f-43d8-8f93-e54fd901e158"
      },
      "outputs": [
        {
          "name": "stdout",
          "output_type": "stream",
          "text": [
            "\n",
            "--- Initializing XGB Model ---\n",
            "XGBRegressor(max_depth=4, n_bits=8, n_estimators=50, n_jobs=-1)\n",
            "[0]\tvalidation_0-rmse:39.32684\n",
            "[1]\tvalidation_0-rmse:35.94292\n",
            "[2]\tvalidation_0-rmse:32.25308\n",
            "[3]\tvalidation_0-rmse:29.31330\n",
            "[4]\tvalidation_0-rmse:29.22418\n",
            "[5]\tvalidation_0-rmse:28.49646\n",
            "[6]\tvalidation_0-rmse:28.48946\n",
            "[7]\tvalidation_0-rmse:28.52987\n",
            "[8]\tvalidation_0-rmse:28.40229\n",
            "[9]\tvalidation_0-rmse:28.40838\n",
            "[10]\tvalidation_0-rmse:28.43746\n",
            "[11]\tvalidation_0-rmse:28.43595\n",
            "[12]\tvalidation_0-rmse:28.47688\n",
            "[13]\tvalidation_0-rmse:28.44562\n",
            "[14]\tvalidation_0-rmse:28.58315\n",
            "[15]\tvalidation_0-rmse:29.45370\n",
            "[16]\tvalidation_0-rmse:28.43697\n",
            "[17]\tvalidation_0-rmse:28.40811\n",
            "[18]\tvalidation_0-rmse:28.40691\n",
            "[19]\tvalidation_0-rmse:28.41109\n",
            "[20]\tvalidation_0-rmse:28.42981\n",
            "[21]\tvalidation_0-rmse:28.46047\n",
            "[22]\tvalidation_0-rmse:28.49950\n",
            "[23]\tvalidation_0-rmse:28.45670\n",
            "[24]\tvalidation_0-rmse:28.40925\n",
            "[25]\tvalidation_0-rmse:28.50332\n",
            "[26]\tvalidation_0-rmse:28.50506\n",
            "[27]\tvalidation_0-rmse:28.51485\n",
            "[28]\tvalidation_0-rmse:28.52003\n",
            "[29]\tvalidation_0-rmse:28.51070\n",
            "[30]\tvalidation_0-rmse:28.88964\n",
            "[31]\tvalidation_0-rmse:28.36256\n",
            "[32]\tvalidation_0-rmse:28.35037\n",
            "[33]\tvalidation_0-rmse:28.74569\n",
            "[34]\tvalidation_0-rmse:28.74908\n",
            "[35]\tvalidation_0-rmse:29.16171\n",
            "[36]\tvalidation_0-rmse:29.23206\n",
            "[37]\tvalidation_0-rmse:29.20662\n",
            "[38]\tvalidation_0-rmse:29.21799\n",
            "[39]\tvalidation_0-rmse:29.26173\n",
            "[40]\tvalidation_0-rmse:29.26851\n",
            "[41]\tvalidation_0-rmse:29.25489\n",
            "[42]\tvalidation_0-rmse:29.10682\n",
            "[43]\tvalidation_0-rmse:29.25289\n",
            "[44]\tvalidation_0-rmse:29.46714\n",
            "[45]\tvalidation_0-rmse:29.54729\n",
            "[46]\tvalidation_0-rmse:29.54235\n",
            "[47]\tvalidation_0-rmse:29.54198\n",
            "[48]\tvalidation_0-rmse:29.37828\n",
            "[49]\tvalidation_0-rmse:29.36211\n",
            "Final model training completed in 66.94 seconds.\n"
          ]
        }
      ],
      "source": [
        "print(\"\\n--- Initializing XGB Model ---\")\n",
        "\n",
        "n_estimators = 50\n",
        "max_depth = 4\n",
        "n_jobs = -1\n",
        "n_bits = 8\n",
        "\n",
        "concrete_xgb_reg = ConcreteXGBRegressor(\n",
        "    n_bits=n_bits, n_estimators=n_estimators, max_depth=max_depth, n_jobs=n_jobs\n",
        ")\n",
        "print(concrete_xgb_reg)\n",
        "\n",
        "start_time = time.time()\n",
        "concrete_xgb_reg.fit(\n",
        "    X_train.to_numpy(), y_train.to_numpy(),\n",
        "    eval_set=[(X_val.to_numpy(), y_val.to_numpy())],\n",
        "    verbose=True # Show training progress\n",
        ")\n",
        "print(f\"Final model training completed in {time.time() - start_time:.2f} seconds.\")"
      ]
    },
    {
      "cell_type": "code",
      "execution_count": null,
      "id": "H83D39x_1Jlz",
      "metadata": {
        "id": "H83D39x_1Jlz"
      },
      "outputs": [],
      "source": []
    },
    {
      "cell_type": "markdown",
      "id": "-EHI6e_gAsQ9",
      "metadata": {
        "id": "-EHI6e_gAsQ9"
      },
      "source": [
        "## XGB Regressor 10 bits"
      ]
    },
    {
      "cell_type": "code",
      "execution_count": null,
      "id": "8Rf1Giqw1M5f",
      "metadata": {
        "colab": {
          "base_uri": "https://localhost:8080/"
        },
        "id": "8Rf1Giqw1M5f",
        "outputId": "d518c30b-e5a7-4e9d-fea5-64a81638608e"
      },
      "outputs": [
        {
          "output_type": "stream",
          "name": "stdout",
          "text": [
            "\n",
            "--- Initializing XGB Model ---\n",
            "XGBRegressor(max_depth=4, n_bits=10, n_estimators=50, n_jobs=-1)\n",
            "[0]\tvalidation_0-rmse:39.48500\n",
            "[1]\tvalidation_0-rmse:36.23753\n",
            "[2]\tvalidation_0-rmse:31.43949\n",
            "[3]\tvalidation_0-rmse:29.11227\n",
            "[4]\tvalidation_0-rmse:28.57422\n",
            "[5]\tvalidation_0-rmse:28.42181\n",
            "[6]\tvalidation_0-rmse:28.42370\n",
            "[7]\tvalidation_0-rmse:28.41403\n",
            "[8]\tvalidation_0-rmse:28.45569\n",
            "[9]\tvalidation_0-rmse:28.49376\n",
            "[10]\tvalidation_0-rmse:28.80600\n",
            "[11]\tvalidation_0-rmse:28.58103\n",
            "[12]\tvalidation_0-rmse:28.54823\n",
            "[13]\tvalidation_0-rmse:28.56058\n",
            "[14]\tvalidation_0-rmse:28.60003\n",
            "[15]\tvalidation_0-rmse:28.94866\n",
            "[16]\tvalidation_0-rmse:28.96804\n",
            "[17]\tvalidation_0-rmse:28.76447\n",
            "[18]\tvalidation_0-rmse:28.77325\n",
            "[19]\tvalidation_0-rmse:28.78225\n",
            "[20]\tvalidation_0-rmse:28.54751\n",
            "[21]\tvalidation_0-rmse:28.52315\n",
            "[22]\tvalidation_0-rmse:29.39341\n",
            "[23]\tvalidation_0-rmse:30.32749\n",
            "[24]\tvalidation_0-rmse:29.16547\n",
            "[25]\tvalidation_0-rmse:29.16218\n",
            "[26]\tvalidation_0-rmse:29.16016\n",
            "[27]\tvalidation_0-rmse:29.32680\n",
            "[28]\tvalidation_0-rmse:29.33410\n",
            "[29]\tvalidation_0-rmse:29.14378\n",
            "[30]\tvalidation_0-rmse:29.14195\n",
            "[31]\tvalidation_0-rmse:28.98923\n",
            "[32]\tvalidation_0-rmse:29.01011\n",
            "[33]\tvalidation_0-rmse:28.56165\n",
            "[34]\tvalidation_0-rmse:28.40404\n",
            "[35]\tvalidation_0-rmse:28.40393\n",
            "[36]\tvalidation_0-rmse:28.40310\n",
            "[37]\tvalidation_0-rmse:28.40365\n",
            "[38]\tvalidation_0-rmse:28.40827\n",
            "[39]\tvalidation_0-rmse:28.62858\n",
            "[40]\tvalidation_0-rmse:28.69993\n",
            "[41]\tvalidation_0-rmse:28.71918\n",
            "[42]\tvalidation_0-rmse:28.71873\n",
            "[43]\tvalidation_0-rmse:28.72100\n",
            "[44]\tvalidation_0-rmse:28.70096\n",
            "[45]\tvalidation_0-rmse:28.84125\n",
            "[46]\tvalidation_0-rmse:28.40836\n",
            "[47]\tvalidation_0-rmse:28.40861\n",
            "[48]\tvalidation_0-rmse:28.41385\n",
            "[49]\tvalidation_0-rmse:28.48687\n",
            "Final model training completed in 86.43 seconds.\n"
          ]
        }
      ],
      "source": [
        "print(\"\\n--- Initializing XGB Model ---\")\n",
        "\n",
        "n_estimators = 50\n",
        "max_depth = 4\n",
        "n_jobs = -1\n",
        "n_bits = 10\n",
        "\n",
        "concrete_xgb_reg = ConcreteXGBRegressor(\n",
        "    n_bits=n_bits, n_estimators=n_estimators, max_depth=max_depth, n_jobs=n_jobs\n",
        ")\n",
        "print(concrete_xgb_reg)\n",
        "\n",
        "start_time = time.time()\n",
        "concrete_xgb_reg.fit(\n",
        "    X_train.to_numpy(), y_train.to_numpy(),\n",
        "    eval_set=[(X_val.to_numpy(), y_val.to_numpy())],\n",
        "    verbose=True # Show training progress\n",
        ")\n",
        "print(f\"Final model training completed in {time.time() - start_time:.2f} seconds.\")"
      ]
    },
    {
      "cell_type": "markdown",
      "metadata": {
        "id": "8Y7viOOcVAmg"
      },
      "source": [
        "## Ridge Model 4 bits"
      ],
      "id": "8Y7viOOcVAmg"
    },
    {
      "cell_type": "code",
      "execution_count": null,
      "metadata": {
        "colab": {
          "base_uri": "https://localhost:8080/"
        },
        "outputId": "23506004-165f-42c2-a30c-affb7c71b493",
        "id": "cW4tbLIlVAmh"
      },
      "outputs": [
        {
          "output_type": "stream",
          "name": "stdout",
          "text": [
            "\n",
            "--- Initializing Ridge Model ---\n",
            "Ridge(n_bits=4)\n",
            "Final model training completed in 10.16 seconds.\n"
          ]
        }
      ],
      "source": [
        "print(\"\\n--- Initializing Ridge Model ---\")\n",
        "\n",
        "n_bits = 4\n",
        "\n",
        "concrete_ridge_model = Ridge(\n",
        "    n_bits=n_bits,\n",
        "\n",
        ")\n",
        "print(concrete_ridge_model)\n",
        "\n",
        "start_time = time.time()\n",
        "concrete_ridge_model.fit(\n",
        "    X_train.to_numpy(), y_train.to_numpy(),\n",
        ")\n",
        "print(f\"Final model training completed in {time.time() - start_time:.2f} seconds.\")"
      ],
      "id": "cW4tbLIlVAmh"
    },
    {
      "cell_type": "code",
      "source": [],
      "metadata": {
        "id": "4-1sxIObXlEa"
      },
      "id": "4-1sxIObXlEa",
      "execution_count": null,
      "outputs": []
    },
    {
      "cell_type": "markdown",
      "metadata": {
        "id": "bcWOtLaUXlZX"
      },
      "source": [
        "## Ridge Model 5 bits"
      ],
      "id": "bcWOtLaUXlZX"
    },
    {
      "cell_type": "code",
      "execution_count": null,
      "metadata": {
        "colab": {
          "base_uri": "https://localhost:8080/"
        },
        "outputId": "f67cb0df-008b-4343-b734-e12e071bec85",
        "id": "WJWRE--fXlZY"
      },
      "outputs": [
        {
          "output_type": "stream",
          "name": "stdout",
          "text": [
            "\n",
            "--- Initializing Ridge Model ---\n",
            "Ridge(n_bits=5)\n",
            "Final model training completed in 10.12 seconds.\n"
          ]
        }
      ],
      "source": [
        "print(\"\\n--- Initializing Ridge Model ---\")\n",
        "\n",
        "n_bits = 5\n",
        "\n",
        "concrete_ridge_model = Ridge(\n",
        "    n_bits=n_bits,\n",
        "\n",
        ")\n",
        "print(concrete_ridge_model)\n",
        "\n",
        "start_time = time.time()\n",
        "concrete_ridge_model.fit(\n",
        "    X_train.to_numpy(), y_train.to_numpy(),\n",
        ")\n",
        "print(f\"Final model training completed in {time.time() - start_time:.2f} seconds.\")"
      ],
      "id": "WJWRE--fXlZY"
    },
    {
      "cell_type": "markdown",
      "id": "4-Fi1augEs7a",
      "metadata": {
        "id": "4-Fi1augEs7a"
      },
      "source": [
        "## Ridge Model 6 bits"
      ]
    },
    {
      "cell_type": "code",
      "execution_count": null,
      "id": "2gXzrXZqEs7b",
      "metadata": {
        "colab": {
          "base_uri": "https://localhost:8080/"
        },
        "id": "2gXzrXZqEs7b",
        "outputId": "88ab8b06-e9db-4a8c-9101-28c133f95078"
      },
      "outputs": [
        {
          "output_type": "stream",
          "name": "stdout",
          "text": [
            "\n",
            "--- Initializing Ridge Model ---\n",
            "Ridge(n_bits=6)\n",
            "Final model training completed in 10.65 seconds.\n"
          ]
        }
      ],
      "source": [
        "print(\"\\n--- Initializing Ridge Model ---\")\n",
        "\n",
        "n_bits = 6\n",
        "\n",
        "concrete_ridge_model = Ridge(\n",
        "    n_bits=n_bits,\n",
        "\n",
        ")\n",
        "print(concrete_ridge_model)\n",
        "\n",
        "start_time = time.time()\n",
        "concrete_ridge_model.fit(\n",
        "    X_train.to_numpy(), y_train.to_numpy(),\n",
        ")\n",
        "print(f\"Final model training completed in {time.time() - start_time:.2f} seconds.\")"
      ]
    },
    {
      "cell_type": "markdown",
      "id": "qQu5rSgLEo61",
      "metadata": {
        "id": "qQu5rSgLEo61"
      },
      "source": [
        "## Ridge Model 8 bits"
      ]
    },
    {
      "cell_type": "code",
      "execution_count": null,
      "id": "BwYe-XfwEo61",
      "metadata": {
        "colab": {
          "base_uri": "https://localhost:8080/"
        },
        "id": "BwYe-XfwEo61",
        "outputId": "b57e5a12-748d-4160-e5aa-f4dc099cdcfb"
      },
      "outputs": [
        {
          "name": "stdout",
          "output_type": "stream",
          "text": [
            "\n",
            "--- Initializing Ridge Model ---\n",
            "Ridge()\n",
            "Final model training completed in 9.75 seconds.\n"
          ]
        }
      ],
      "source": [
        "print(\"\\n--- Initializing Ridge Model ---\")\n",
        "\n",
        "n_bits = 8\n",
        "\n",
        "concrete_ridge_model = Ridge(\n",
        "    n_bits=n_bits,\n",
        "\n",
        ")\n",
        "print(concrete_ridge_model)\n",
        "\n",
        "start_time = time.time()\n",
        "concrete_ridge_model.fit(\n",
        "    X_train.to_numpy(), y_train.to_numpy(),\n",
        ")\n",
        "print(f\"Final model training completed in {time.time() - start_time:.2f} seconds.\")"
      ]
    },
    {
      "cell_type": "markdown",
      "id": "7ZjwQIPao4fZ",
      "metadata": {
        "id": "7ZjwQIPao4fZ"
      },
      "source": [
        "## Ridge Model 10 bits"
      ]
    },
    {
      "cell_type": "code",
      "execution_count": null,
      "id": "Ay1_Z6R1f5Ar",
      "metadata": {
        "colab": {
          "base_uri": "https://localhost:8080/"
        },
        "id": "Ay1_Z6R1f5Ar",
        "outputId": "7afe7963-5670-438c-bf16-e60db3f73752"
      },
      "outputs": [
        {
          "output_type": "stream",
          "name": "stdout",
          "text": [
            "\n",
            "--- Initializing Ridge Model ---\n",
            "Ridge(n_bits=10)\n",
            "Final model training completed in 10.44 seconds.\n"
          ]
        }
      ],
      "source": [
        "print(\"\\n--- Initializing Ridge Model ---\")\n",
        "\n",
        "n_bits = 10\n",
        "\n",
        "concrete_ridge_model = Ridge(\n",
        "    n_bits=n_bits,\n",
        "\n",
        ")\n",
        "print(concrete_ridge_model)\n",
        "\n",
        "start_time = time.time()\n",
        "concrete_ridge_model.fit(\n",
        "    X_train.to_numpy(), y_train.to_numpy(),\n",
        ")\n",
        "print(f\"Final model training completed in {time.time() - start_time:.2f} seconds.\")"
      ]
    },
    {
      "cell_type": "markdown",
      "id": "Cb6Qmtvxp3gL",
      "metadata": {
        "id": "Cb6Qmtvxp3gL"
      },
      "source": [
        "# ConcreteML Deploymemnt"
      ]
    },
    {
      "cell_type": "code",
      "execution_count": null,
      "id": "DjjuK87Wqaxt",
      "metadata": {
        "id": "DjjuK87Wqaxt"
      },
      "outputs": [],
      "source": [
        "final_model = concrete_xgb_reg\n",
        "#final_model = concrete_ridge_model"
      ]
    },
    {
      "cell_type": "code",
      "source": [
        "cd /content"
      ],
      "metadata": {
        "colab": {
          "base_uri": "https://localhost:8080/"
        },
        "id": "Evoc3EBGmf9E",
        "outputId": "f7977b7d-64fd-4064-bfcb-91345853e217"
      },
      "id": "Evoc3EBGmf9E",
      "execution_count": null,
      "outputs": [
        {
          "output_type": "stream",
          "name": "stdout",
          "text": [
            "/content\n"
          ]
        }
      ]
    },
    {
      "cell_type": "code",
      "execution_count": null,
      "id": "YWWJwGhnLf8N",
      "metadata": {
        "id": "YWWJwGhnLf8N"
      },
      "outputs": [],
      "source": [
        "# Define the directory for FHE client/server files\n",
        "fhe_directory = './weights'\n",
        "final_model.compile(X_train)\n",
        "# Setup the development environment\n",
        "dev = FHEModelDev(path_dir=fhe_directory, model=final_model)\n",
        "dev.save()\n",
        "\n",
        "# Setup the client\n",
        "client = FHEModelClient(path_dir=fhe_directory, key_dir=\"./weights/keys_client\")\n",
        "serialized_evaluation_keys = client.get_serialized_evaluation_keys()\n"
      ]
    },
    {
      "cell_type": "code",
      "execution_count": null,
      "id": "61Sq2NadViyF",
      "metadata": {
        "id": "61Sq2NadViyF"
      },
      "outputs": [],
      "source": [
        "# Client pre-processes new data\n",
        "encrypted_data = client.quantize_encrypt_serialize(X_val.to_numpy()[:1])\n",
        "\n",
        "# Setup the server\n",
        "server = FHEModelServer(path_dir=fhe_directory)\n",
        "server.load()\n",
        "\n",
        "# Server processes the encrypted data\n",
        "encrypted_result = server.run(encrypted_data, serialized_evaluation_keys)\n",
        "\n",
        "# Client decrypts the result\n",
        "result = client.deserialize_decrypt_dequantize(encrypted_result)"
      ]
    },
    {
      "cell_type": "code",
      "execution_count": null,
      "id": "wOlTFDaBO6fV",
      "metadata": {
        "id": "wOlTFDaBO6fV"
      },
      "outputs": [],
      "source": [
        "print(result)"
      ]
    },
    {
      "cell_type": "code",
      "execution_count": null,
      "id": "iln8d_B5m_zs",
      "metadata": {
        "id": "iln8d_B5m_zs",
        "colab": {
          "base_uri": "https://localhost:8080/"
        },
        "outputId": "71e7bdd5-1edf-4800-f7d3-a6a1ea1dc3f0"
      },
      "outputs": [
        {
          "output_type": "stream",
          "name": "stdout",
          "text": [
            "Key generation time: 2.4345 seconds\n"
          ]
        }
      ],
      "source": [
        "fhe_circuit = final_model.compile(X_train)\n",
        "time_begin = time.time()\n",
        "fhe_circuit.client.keygen(force=False)\n",
        "print(f\"Key generation time: {time.time() - time_begin:.4f} seconds\")\n"
      ]
    },
    {
      "cell_type": "markdown",
      "id": "iobOpEgTw4U_",
      "metadata": {
        "id": "iobOpEgTw4U_"
      },
      "source": [
        "# Inference on Test Data"
      ]
    },
    {
      "cell_type": "code",
      "execution_count": null,
      "id": "gzt0AsjyUG6I",
      "metadata": {
        "id": "gzt0AsjyUG6I"
      },
      "outputs": [],
      "source": [
        "X_val = test_scaled\n",
        "y_val = test_ages\n",
        "n_samples_pred = 100"
      ]
    },
    {
      "cell_type": "code",
      "execution_count": null,
      "id": "G1CMElzCT7mA",
      "metadata": {
        "id": "G1CMElzCT7mA"
      },
      "outputs": [],
      "source": [
        "# Now predict using the FHE-quantized model on the testing set\n",
        "time_begin = time.time()\n",
        "y_pred_fhe = final_model.predict(X_val[0:n_samples_pred], fhe=\"execute\")\n",
        "\n",
        "print(f\"Execution time: {time.time()-time_begin}\")\n",
        "#500 s for Ridge 5bits"
      ]
    },
    {
      "cell_type": "code",
      "execution_count": null,
      "id": "K5eiDTxFcJxc",
      "metadata": {
        "id": "K5eiDTxFcJxc"
      },
      "outputs": [],
      "source": [
        "def calculate_metrics(y_true, y_predicted):\n",
        "  \"\"\"\n",
        "  Calculates Mean Squared Error (MSE), Mean Absolute Error (MAE), and\n",
        "  Root Mean Squared Error (RMSE) from NumPy arrays of true and predicted values.\n",
        "\n",
        "  Args:\n",
        "    y_true (np.ndarray): Array of true (actual) values.\n",
        "    y_predicted (np.ndarray): Array of predicted values.\n",
        "\n",
        "  Returns:\n",
        "    dict: A dictionary containing the MSE, MAE, and RMSE.\n",
        "          Returns None if the input arrays have different shapes.\n",
        "  \"\"\"\n",
        "  if y_true.shape != y_predicted.shape:\n",
        "    print(\"Error: True and predicted arrays must have the same shape.\")\n",
        "    return None\n",
        "\n",
        "  mse = np.mean((y_true - y_predicted)**2)\n",
        "  mae = np.mean(np.abs(y_true - y_predicted))\n",
        "  rmse = np.sqrt(mse)\n",
        "\n",
        "  metrics = {\n",
        "      'mse': mse,\n",
        "      'mae': mae,\n",
        "      'rmse': rmse,\n",
        "  }\n",
        "  return metrics"
      ]
    },
    {
      "cell_type": "code",
      "execution_count": null,
      "id": "8czJpxCew8zA",
      "metadata": {
        "id": "8czJpxCew8zA"
      },
      "outputs": [],
      "source": [
        "y_pred_fhe = np.maximum(0, y_pred_fhe)"
      ]
    },
    {
      "cell_type": "code",
      "execution_count": null,
      "id": "zONsJ8aTvHay",
      "metadata": {
        "id": "zONsJ8aTvHay"
      },
      "outputs": [],
      "source": [
        "print(\"Actual ages ----> \", [ int(i) for i in y_val.to_numpy()[0:n_samples_pred]])\n",
        "print(\"Predicted ages ---->\", [ int(i) for i in y_pred_fhe])"
      ]
    },
    {
      "cell_type": "code",
      "execution_count": null,
      "id": "XHa6FK4QcOAU",
      "metadata": {
        "id": "XHa6FK4QcOAU"
      },
      "outputs": [],
      "source": [
        "calculate_metrics(y_val[0:n_samples_pred], y_pred_fhe)"
      ]
    },
    {
      "cell_type": "code",
      "execution_count": null,
      "id": "QjTV2J4gI1gS",
      "metadata": {
        "id": "QjTV2J4gI1gS"
      },
      "outputs": [],
      "source": [
        "Ridge 4 bits ---->\n",
        "{'mse': 1161.4358373449131, 'mae': 31.517142562242867, 'rmse': 34.079845031116456}\n",
        "\n",
        "Ridge 5 bits ---->\n",
        "{'mse': 87.40573682605505, 'mae': 6.5281055137308295, 'rmse': 9.3491035306095}\n",
        "\n",
        "Ridge 6 bits ---->\n",
        "{'mse': 33.35124638125943, 'mae': 2.868349465474243, 'rmse': 5.775053798992649}\n",
        "\n",
        "Ridge 8 bits ---->\n",
        " {'mse': 21.19793535517247, 'mae': 2.590819450523437, 'rmse': 4.6041215617284115}\n",
        "\n",
        "Ridge 10 bits ---->\n",
        "{'mse': 19.033317782160697, 'mae': 2.3995780846174473, 'rmse': 4.362719081279552}\n"
      ]
    },
    {
      "cell_type": "markdown",
      "source": [
        "# Performance Analysis"
      ],
      "metadata": {
        "id": "CuDA2-MnWE4Q"
      },
      "id": "CuDA2-MnWE4Q"
    },
    {
      "cell_type": "code",
      "source": [
        "import matplotlib.pyplot as plt\n",
        "import numpy as np\n",
        "\n",
        "# Data\n",
        "bits = [4, 5, 6, 8, 10]\n",
        "mse = [1161.4358373449131, 87.40573682605505, 33.35124638125943, 21.19793535517247, 19.033317782160697]\n",
        "mae = [31.517142562242867, 6.5281055137308295, 2.868349465474243, 2.590819450523437, 2.3995780846174473]\n",
        "rmse = [34.079845031116456, 9.3491035306095, 5.775053798992649, 4.6041215617284115, 4.362719081279552]\n",
        "\n",
        "# --- Create the plot ---\n",
        "fig, ax1 = plt.subplots(figsize=(8, 6))\n",
        "\n",
        "# Plot MSE\n",
        "color = 'tab:red'\n",
        "ax1.set_xlabel('Ridge Bits')\n",
        "ax1.set_ylabel('Mean Squared Error (MSE)', color=color)\n",
        "line1 = ax1.plot(bits, mse, marker='o', linestyle='-', color=color, label='MSE')\n",
        "ax1.tick_params(axis='y', labelcolor=color)\n",
        "ax1.set_xticks(bits)  # Ensure ticks are at the bit values\n",
        "ax1.grid(True, linestyle='--', alpha=0.7)\n",
        "\n",
        "# Create a second y-axis for MAE and RMSE\n",
        "ax2 = ax1.twinx()\n",
        "color = 'tab:blue'\n",
        "ax2.set_ylabel('Mean Absolute Error (MAE) / Root Mean Squared Error (RMSE)', color=color)\n",
        "line2 = ax2.plot(bits, mae, marker='s', linestyle='--', color='tab:green', label='MAE')\n",
        "line3 = ax2.plot(bits, rmse, marker='^', linestyle='-.', color=color, label='RMSE')\n",
        "ax2.tick_params(axis='y', labelcolor=color)\n",
        "\n",
        "# --- Combine legends ---\n",
        "lines = line1 + line2 + line3\n",
        "labels = [l.get_label() for l in lines]\n",
        "ax1.legend(lines, labels, loc='upper right')\n",
        "\n",
        "# --- Title and Aesthetics ---\n",
        "plt.title('Ridge Regression Performance vs. Number of Bits', fontsize=14)\n",
        "fig.tight_layout()  # Adjust layout to prevent labels from overlapping\n",
        "\n",
        "# --- Show the plot ---\n",
        "plt.show()"
      ],
      "metadata": {
        "colab": {
          "base_uri": "https://localhost:8080/",
          "height": 607
        },
        "id": "cOO7UpfYUjee",
        "outputId": "0b8d0b74-f9b6-4194-8171-737cc30b9b45"
      },
      "id": "cOO7UpfYUjee",
      "execution_count": null,
      "outputs": [
        {
          "output_type": "display_data",
          "data": {
            "text/plain": [
              "<Figure size 800x600 with 2 Axes>"
            ],
            "image/png": "[encoded data removed]"
          },
          "metadata": {}
        }
      ]
    },
    {
      "cell_type": "code",
      "source": [],
      "metadata": {
        "id": "eVuF7VIuUkb0"
      },
      "id": "eVuF7VIuUkb0",
      "execution_count": null,
      "outputs": []
    }
  ],
  "metadata": {
    "accelerator": "GPU",
    "colab": {
      "gpuType": "L4",
      "provenance": [],
      "collapsed_sections": [
        "20be4239-aa72-46f0-9e8d-59fcb8197f7c",
        "VQuvpHgUorWL",
        "IfV36ZWgAlm3",
        "4-Fi1augEs7a",
        "qQu5rSgLEo61",
        "7ZjwQIPao4fZ"
      ]
    },
    "kernelspec": {
      "display_name": "Python 3",
      "name": "python3"
    },
    "language_info": {
      "codemirror_mode": {
        "name": "ipython",
        "version": 3
      },
      "file_extension": ".py",
      "mimetype": "text/x-python",
      "name": "python",
      "nbconvert_exporter": "python",
      "pygments_lexer": "ipython3",
      "version": "3.9.7"
    }
  },
  "nbformat": 4,
  "nbformat_minor": 5
}